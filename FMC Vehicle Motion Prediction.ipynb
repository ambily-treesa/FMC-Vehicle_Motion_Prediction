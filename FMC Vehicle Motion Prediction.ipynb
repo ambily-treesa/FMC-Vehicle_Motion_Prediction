{
 "cells": [
  {
   "cell_type": "markdown",
   "id": "4a1f9cb6",
   "metadata": {},
   "source": [
    "# FUTURE MOBILITY CHALLENGE: VEHICLE MOTION PREDICTION\n",
    "======================================================\n",
    "\n",
    "### **Submission Date: 09-Feb-2023**\n",
    "### **Submitted by: Dileep Sathyan & Ambily Treesa Varghese**\n",
    "### **St. Clair College, Downtown Campus, Windsor, ON, CA**\n",
    "\n",
    "\n",
    "## Specials thanks to \n",
    "### ===== Dr. Umair Durrani - Challenge Mentor & Faculty at St. Clair College\n",
    "### ===== Prof. John Ulakovich - Event Coordinator & Program Coordinator DAB, St.Clair College "
   ]
  },
  {
   "cell_type": "code",
   "execution_count": 2,
   "id": "4dff19e5",
   "metadata": {},
   "outputs": [],
   "source": [
    "import math\n",
    "import numpy as np\n",
    "import pandas as pd\n",
    "import datetime as dt\n",
    "import statsmodels.api as sm\n",
    "\n",
    "import matplotlib.pyplot as plt\n",
    "import seaborn as sns\n",
    "\n",
    "from statsmodels.graphics.tsaplots import plot_acf, plot_pacf\n",
    "from statsmodels.tsa.stattools import adfuller\n",
    "from statsmodels.tsa.arima.model import ARIMA\n",
    "\n",
    "from sklearn.preprocessing import LabelEncoder\n",
    "from sklearn.metrics import mean_squared_error\n",
    "from sklearn.model_selection import train_test_split\n",
    "from sklearn.model_selection import cross_val_score\n",
    "from sklearn.linear_model import LinearRegression\n",
    "from sklearn.ensemble import RandomForestRegressor\n",
    "from sklearn.metrics import mean_squared_error as mse\n",
    "\n",
    "from sklearn.datasets import make_regression\n",
    "from sklearn.metrics import confusion_matrix"
   ]
  },
  {
   "cell_type": "markdown",
   "id": "ffc83fff",
   "metadata": {},
   "source": [
    "## Importing dataset"
   ]
  },
  {
   "cell_type": "code",
   "execution_count": 3,
   "id": "32537049",
   "metadata": {},
   "outputs": [
    {
     "data": {
      "text/html": [
       "<div>\n",
       "<style scoped>\n",
       "    .dataframe tbody tr th:only-of-type {\n",
       "        vertical-align: middle;\n",
       "    }\n",
       "\n",
       "    .dataframe tbody tr th {\n",
       "        vertical-align: top;\n",
       "    }\n",
       "\n",
       "    .dataframe thead th {\n",
       "        text-align: right;\n",
       "    }\n",
       "</style>\n",
       "<table border=\"1\" class=\"dataframe\">\n",
       "  <thead>\n",
       "    <tr style=\"text-align: right;\">\n",
       "      <th></th>\n",
       "      <th>Vehicle_ID</th>\n",
       "      <th>Frame_ID</th>\n",
       "      <th>Total_Frames</th>\n",
       "      <th>Global_Time</th>\n",
       "      <th>Local_X</th>\n",
       "      <th>Local_Y</th>\n",
       "      <th>Global_X</th>\n",
       "      <th>Global_Y</th>\n",
       "      <th>v_length</th>\n",
       "      <th>v_Width</th>\n",
       "      <th>...</th>\n",
       "      <th>D_Zone</th>\n",
       "      <th>Int_ID</th>\n",
       "      <th>Section_ID</th>\n",
       "      <th>Direction</th>\n",
       "      <th>Movement</th>\n",
       "      <th>Preceding</th>\n",
       "      <th>Following</th>\n",
       "      <th>Space_Headway</th>\n",
       "      <th>Time_Headway</th>\n",
       "      <th>Location</th>\n",
       "    </tr>\n",
       "  </thead>\n",
       "  <tbody>\n",
       "    <tr>\n",
       "      <th>0</th>\n",
       "      <td>515</td>\n",
       "      <td>2330</td>\n",
       "      <td>1123</td>\n",
       "      <td>1118848075000</td>\n",
       "      <td>30.034</td>\n",
       "      <td>188.062</td>\n",
       "      <td>6451203.729</td>\n",
       "      <td>1873252.549</td>\n",
       "      <td>13.0</td>\n",
       "      <td>6.9</td>\n",
       "      <td>...</td>\n",
       "      <td>NaN</td>\n",
       "      <td>NaN</td>\n",
       "      <td>NaN</td>\n",
       "      <td>NaN</td>\n",
       "      <td>NaN</td>\n",
       "      <td>500</td>\n",
       "      <td>523</td>\n",
       "      <td>119.10</td>\n",
       "      <td>5.11</td>\n",
       "      <td>us-101</td>\n",
       "    </tr>\n",
       "    <tr>\n",
       "      <th>1</th>\n",
       "      <td>515</td>\n",
       "      <td>2330</td>\n",
       "      <td>1123</td>\n",
       "      <td>1118848075000</td>\n",
       "      <td>30.034</td>\n",
       "      <td>188.062</td>\n",
       "      <td>6451203.729</td>\n",
       "      <td>1873252.549</td>\n",
       "      <td>13.0</td>\n",
       "      <td>6.9</td>\n",
       "      <td>...</td>\n",
       "      <td>NaN</td>\n",
       "      <td>NaN</td>\n",
       "      <td>NaN</td>\n",
       "      <td>NaN</td>\n",
       "      <td>NaN</td>\n",
       "      <td>500</td>\n",
       "      <td>523</td>\n",
       "      <td>119.10</td>\n",
       "      <td>5.11</td>\n",
       "      <td>us-101</td>\n",
       "    </tr>\n",
       "    <tr>\n",
       "      <th>2</th>\n",
       "      <td>2224</td>\n",
       "      <td>6548</td>\n",
       "      <td>1902</td>\n",
       "      <td>1113437421700</td>\n",
       "      <td>41.429</td>\n",
       "      <td>472.901</td>\n",
       "      <td>6042814.264</td>\n",
       "      <td>2133542.012</td>\n",
       "      <td>14.3</td>\n",
       "      <td>6.9</td>\n",
       "      <td>...</td>\n",
       "      <td>NaN</td>\n",
       "      <td>NaN</td>\n",
       "      <td>NaN</td>\n",
       "      <td>NaN</td>\n",
       "      <td>NaN</td>\n",
       "      <td>2208</td>\n",
       "      <td>2211</td>\n",
       "      <td>53.34</td>\n",
       "      <td>2.01</td>\n",
       "      <td>i-80</td>\n",
       "    </tr>\n",
       "    <tr>\n",
       "      <th>3</th>\n",
       "      <td>2127</td>\n",
       "      <td>6459</td>\n",
       "      <td>567</td>\n",
       "      <td>1118847624800</td>\n",
       "      <td>19.632</td>\n",
       "      <td>1775.614</td>\n",
       "      <td>6452425.122</td>\n",
       "      <td>1872172.475</td>\n",
       "      <td>13.5</td>\n",
       "      <td>6.9</td>\n",
       "      <td>...</td>\n",
       "      <td>NaN</td>\n",
       "      <td>NaN</td>\n",
       "      <td>NaN</td>\n",
       "      <td>NaN</td>\n",
       "      <td>NaN</td>\n",
       "      <td>2124</td>\n",
       "      <td>2132</td>\n",
       "      <td>48.92</td>\n",
       "      <td>1.30</td>\n",
       "      <td>us-101</td>\n",
       "    </tr>\n",
       "    <tr>\n",
       "      <th>4</th>\n",
       "      <td>1033</td>\n",
       "      <td>4827</td>\n",
       "      <td>592</td>\n",
       "      <td>1118848324700</td>\n",
       "      <td>6.202</td>\n",
       "      <td>1701.144</td>\n",
       "      <td>6452347.673</td>\n",
       "      <td>1872258.452</td>\n",
       "      <td>13.5</td>\n",
       "      <td>4.4</td>\n",
       "      <td>...</td>\n",
       "      <td>NaN</td>\n",
       "      <td>NaN</td>\n",
       "      <td>NaN</td>\n",
       "      <td>NaN</td>\n",
       "      <td>NaN</td>\n",
       "      <td>1029</td>\n",
       "      <td>1040</td>\n",
       "      <td>38.81</td>\n",
       "      <td>0.92</td>\n",
       "      <td>us-101</td>\n",
       "    </tr>\n",
       "  </tbody>\n",
       "</table>\n",
       "<p>5 rows × 25 columns</p>\n",
       "</div>"
      ],
      "text/plain": [
       "   Vehicle_ID  Frame_ID  Total_Frames    Global_Time  Local_X   Local_Y  \\\n",
       "0         515      2330          1123  1118848075000   30.034   188.062   \n",
       "1         515      2330          1123  1118848075000   30.034   188.062   \n",
       "2        2224      6548          1902  1113437421700   41.429   472.901   \n",
       "3        2127      6459           567  1118847624800   19.632  1775.614   \n",
       "4        1033      4827           592  1118848324700    6.202  1701.144   \n",
       "\n",
       "      Global_X     Global_Y  v_length  v_Width  ...  D_Zone  Int_ID  \\\n",
       "0  6451203.729  1873252.549      13.0      6.9  ...     NaN     NaN   \n",
       "1  6451203.729  1873252.549      13.0      6.9  ...     NaN     NaN   \n",
       "2  6042814.264  2133542.012      14.3      6.9  ...     NaN     NaN   \n",
       "3  6452425.122  1872172.475      13.5      6.9  ...     NaN     NaN   \n",
       "4  6452347.673  1872258.452      13.5      4.4  ...     NaN     NaN   \n",
       "\n",
       "   Section_ID  Direction  Movement  Preceding  Following  Space_Headway  \\\n",
       "0         NaN        NaN       NaN        500        523         119.10   \n",
       "1         NaN        NaN       NaN        500        523         119.10   \n",
       "2         NaN        NaN       NaN       2208       2211          53.34   \n",
       "3         NaN        NaN       NaN       2124       2132          48.92   \n",
       "4         NaN        NaN       NaN       1029       1040          38.81   \n",
       "\n",
       "   Time_Headway  Location  \n",
       "0          5.11    us-101  \n",
       "1          5.11    us-101  \n",
       "2          2.01      i-80  \n",
       "3          1.30    us-101  \n",
       "4          0.92    us-101  \n",
       "\n",
       "[5 rows x 25 columns]"
      ]
     },
     "execution_count": 3,
     "metadata": {},
     "output_type": "execute_result"
    }
   ],
   "source": [
    "df = pd.read_csv(\"Next_Generation_Simulation__NGSIM__Vehicle_Trajectories_and_Supporting_Data.csv\")\n",
    "df.head()"
   ]
  },
  {
   "cell_type": "markdown",
   "id": "3096e695",
   "metadata": {},
   "source": [
    "## Data Cleaning & Handling Missing Data"
   ]
  },
  {
   "cell_type": "code",
   "execution_count": 4,
   "id": "08e9a3d2",
   "metadata": {},
   "outputs": [],
   "source": [
    "# Drop duplicate records in the dataset\n",
    "df.drop_duplicates(inplace=True)"
   ]
  },
  {
   "cell_type": "code",
   "execution_count": 5,
   "id": "55a22b15",
   "metadata": {
    "scrolled": true
   },
   "outputs": [
    {
     "data": {
      "text/plain": [
       "Index(['Vehicle_ID', 'Frame_ID', 'Total_Frames', 'Global_Time', 'Local_X',\n",
       "       'Local_Y', 'Global_X', 'Global_Y', 'v_length', 'v_Width', 'v_Class',\n",
       "       'v_Vel', 'v_Acc', 'Lane_ID', 'O_Zone', 'D_Zone', 'Int_ID', 'Section_ID',\n",
       "       'Direction', 'Movement', 'Preceding', 'Following', 'Space_Headway',\n",
       "       'Time_Headway', 'Location'],\n",
       "      dtype='object')"
      ]
     },
     "execution_count": 5,
     "metadata": {},
     "output_type": "execute_result"
    }
   ],
   "source": [
    "df.columns"
   ]
  },
  {
   "cell_type": "code",
   "execution_count": 6,
   "id": "72174b4a",
   "metadata": {
    "scrolled": true
   },
   "outputs": [
    {
     "name": "stdout",
     "output_type": "stream",
     "text": [
      "<class 'pandas.core.frame.DataFrame'>\n",
      "Int64Index: 11146526 entries, 0 to 11850525\n",
      "Data columns (total 25 columns):\n",
      " #   Column         Dtype  \n",
      "---  ------         -----  \n",
      " 0   Vehicle_ID     int64  \n",
      " 1   Frame_ID       int64  \n",
      " 2   Total_Frames   int64  \n",
      " 3   Global_Time    int64  \n",
      " 4   Local_X        float64\n",
      " 5   Local_Y        float64\n",
      " 6   Global_X       float64\n",
      " 7   Global_Y       float64\n",
      " 8   v_length       float64\n",
      " 9   v_Width        float64\n",
      " 10  v_Class        int64  \n",
      " 11  v_Vel          float64\n",
      " 12  v_Acc          float64\n",
      " 13  Lane_ID        int64  \n",
      " 14  O_Zone         float64\n",
      " 15  D_Zone         float64\n",
      " 16  Int_ID         float64\n",
      " 17  Section_ID     float64\n",
      " 18  Direction      float64\n",
      " 19  Movement       float64\n",
      " 20  Preceding      int64  \n",
      " 21  Following      int64  \n",
      " 22  Space_Headway  float64\n",
      " 23  Time_Headway   float64\n",
      " 24  Location       object \n",
      "dtypes: float64(16), int64(8), object(1)\n",
      "memory usage: 2.2+ GB\n"
     ]
    }
   ],
   "source": [
    "df.info()"
   ]
  },
  {
   "cell_type": "code",
   "execution_count": 7,
   "id": "adc9ab95",
   "metadata": {
    "scrolled": true
   },
   "outputs": [
    {
     "data": {
      "text/plain": [
       "Vehicle_ID             0\n",
       "Frame_ID               0\n",
       "Total_Frames           0\n",
       "Global_Time            0\n",
       "Local_X                0\n",
       "Local_Y                0\n",
       "Global_X               0\n",
       "Global_Y               0\n",
       "v_length               0\n",
       "v_Width                0\n",
       "v_Class                0\n",
       "v_Vel                  0\n",
       "v_Acc                  0\n",
       "Lane_ID                0\n",
       "O_Zone           8665320\n",
       "D_Zone           8665320\n",
       "Int_ID           8665320\n",
       "Section_ID       8665320\n",
       "Direction        8665320\n",
       "Movement         8665320\n",
       "Preceding              0\n",
       "Following              0\n",
       "Space_Headway          0\n",
       "Time_Headway           0\n",
       "Location               0\n",
       "dtype: int64"
      ]
     },
     "execution_count": 7,
     "metadata": {},
     "output_type": "execute_result"
    }
   ],
   "source": [
    "df.isnull().sum()"
   ]
  },
  {
   "cell_type": "code",
   "execution_count": 8,
   "id": "c90b373c",
   "metadata": {},
   "outputs": [
    {
     "data": {
      "text/plain": [
       "Index(['Vehicle_ID', 'Frame_ID', 'Global_Time', 'Local_Y', 'Global_Y',\n",
       "       'v_length', 'v_Width', 'v_Class', 'v_Vel', 'v_Acc', 'Lane_ID',\n",
       "       'Preceding', 'Following', 'Space_Headway', 'Time_Headway', 'Location'],\n",
       "      dtype='object')"
      ]
     },
     "execution_count": 8,
     "metadata": {},
     "output_type": "execute_result"
    }
   ],
   "source": [
    "df.drop(columns=['Local_X', 'Global_X', 'Total_Frames', 'O_Zone', 'D_Zone', \n",
    "                 'Int_ID', 'Section_ID', 'Direction', 'Movement'], inplace=True)\n",
    "df.columns"
   ]
  },
  {
   "cell_type": "markdown",
   "id": "fd097596",
   "metadata": {},
   "source": [
    "## Fixing the datatypes"
   ]
  },
  {
   "cell_type": "code",
   "execution_count": 9,
   "id": "9e3a47bd",
   "metadata": {},
   "outputs": [
    {
     "data": {
      "text/html": [
       "<div>\n",
       "<style scoped>\n",
       "    .dataframe tbody tr th:only-of-type {\n",
       "        vertical-align: middle;\n",
       "    }\n",
       "\n",
       "    .dataframe tbody tr th {\n",
       "        vertical-align: top;\n",
       "    }\n",
       "\n",
       "    .dataframe thead th {\n",
       "        text-align: right;\n",
       "    }\n",
       "</style>\n",
       "<table border=\"1\" class=\"dataframe\">\n",
       "  <thead>\n",
       "    <tr style=\"text-align: right;\">\n",
       "      <th></th>\n",
       "      <th>Vehicle_ID</th>\n",
       "      <th>Frame_ID</th>\n",
       "      <th>Global_Time</th>\n",
       "      <th>Local_Y</th>\n",
       "      <th>Global_Y</th>\n",
       "      <th>v_length</th>\n",
       "      <th>v_Width</th>\n",
       "      <th>v_Class</th>\n",
       "      <th>v_Vel</th>\n",
       "      <th>v_Acc</th>\n",
       "      <th>Lane_ID</th>\n",
       "      <th>Preceding</th>\n",
       "      <th>Following</th>\n",
       "      <th>Space_Headway</th>\n",
       "      <th>Time_Headway</th>\n",
       "      <th>Location</th>\n",
       "      <th>Year</th>\n",
       "      <th>Month</th>\n",
       "      <th>Day</th>\n",
       "    </tr>\n",
       "  </thead>\n",
       "  <tbody>\n",
       "    <tr>\n",
       "      <th>0</th>\n",
       "      <td>515</td>\n",
       "      <td>2330</td>\n",
       "      <td>2005-06-15 15:07:55.000</td>\n",
       "      <td>188.062</td>\n",
       "      <td>1873252.549</td>\n",
       "      <td>13.0</td>\n",
       "      <td>6.9</td>\n",
       "      <td>2</td>\n",
       "      <td>23.31</td>\n",
       "      <td>2.05</td>\n",
       "      <td>3</td>\n",
       "      <td>500</td>\n",
       "      <td>523</td>\n",
       "      <td>119.10</td>\n",
       "      <td>5.11</td>\n",
       "      <td>us-101</td>\n",
       "      <td>2005</td>\n",
       "      <td>6</td>\n",
       "      <td>15</td>\n",
       "    </tr>\n",
       "    <tr>\n",
       "      <th>2</th>\n",
       "      <td>2224</td>\n",
       "      <td>6548</td>\n",
       "      <td>2005-04-14 00:10:21.700</td>\n",
       "      <td>472.901</td>\n",
       "      <td>2133542.012</td>\n",
       "      <td>14.3</td>\n",
       "      <td>6.9</td>\n",
       "      <td>2</td>\n",
       "      <td>26.54</td>\n",
       "      <td>-0.76</td>\n",
       "      <td>4</td>\n",
       "      <td>2208</td>\n",
       "      <td>2211</td>\n",
       "      <td>53.34</td>\n",
       "      <td>2.01</td>\n",
       "      <td>i-80</td>\n",
       "      <td>2005</td>\n",
       "      <td>4</td>\n",
       "      <td>14</td>\n",
       "    </tr>\n",
       "    <tr>\n",
       "      <th>3</th>\n",
       "      <td>2127</td>\n",
       "      <td>6459</td>\n",
       "      <td>2005-06-15 15:00:24.800</td>\n",
       "      <td>1775.614</td>\n",
       "      <td>1872172.475</td>\n",
       "      <td>13.5</td>\n",
       "      <td>6.9</td>\n",
       "      <td>2</td>\n",
       "      <td>37.52</td>\n",
       "      <td>11.20</td>\n",
       "      <td>2</td>\n",
       "      <td>2124</td>\n",
       "      <td>2132</td>\n",
       "      <td>48.92</td>\n",
       "      <td>1.30</td>\n",
       "      <td>us-101</td>\n",
       "      <td>2005</td>\n",
       "      <td>6</td>\n",
       "      <td>15</td>\n",
       "    </tr>\n",
       "    <tr>\n",
       "      <th>4</th>\n",
       "      <td>1033</td>\n",
       "      <td>4827</td>\n",
       "      <td>2005-06-15 15:12:04.700</td>\n",
       "      <td>1701.144</td>\n",
       "      <td>1872258.452</td>\n",
       "      <td>13.5</td>\n",
       "      <td>4.4</td>\n",
       "      <td>2</td>\n",
       "      <td>41.99</td>\n",
       "      <td>0.10</td>\n",
       "      <td>1</td>\n",
       "      <td>1029</td>\n",
       "      <td>1040</td>\n",
       "      <td>38.81</td>\n",
       "      <td>0.92</td>\n",
       "      <td>us-101</td>\n",
       "      <td>2005</td>\n",
       "      <td>6</td>\n",
       "      <td>15</td>\n",
       "    </tr>\n",
       "    <tr>\n",
       "      <th>6</th>\n",
       "      <td>1890</td>\n",
       "      <td>9157</td>\n",
       "      <td>2005-06-15 15:34:32.700</td>\n",
       "      <td>817.521</td>\n",
       "      <td>1872800.663</td>\n",
       "      <td>24.0</td>\n",
       "      <td>8.5</td>\n",
       "      <td>3</td>\n",
       "      <td>45.12</td>\n",
       "      <td>-0.55</td>\n",
       "      <td>5</td>\n",
       "      <td>1882</td>\n",
       "      <td>1897</td>\n",
       "      <td>102.65</td>\n",
       "      <td>2.27</td>\n",
       "      <td>us-101</td>\n",
       "      <td>2005</td>\n",
       "      <td>6</td>\n",
       "      <td>15</td>\n",
       "    </tr>\n",
       "  </tbody>\n",
       "</table>\n",
       "</div>"
      ],
      "text/plain": [
       "   Vehicle_ID  Frame_ID             Global_Time   Local_Y     Global_Y  \\\n",
       "0         515      2330 2005-06-15 15:07:55.000   188.062  1873252.549   \n",
       "2        2224      6548 2005-04-14 00:10:21.700   472.901  2133542.012   \n",
       "3        2127      6459 2005-06-15 15:00:24.800  1775.614  1872172.475   \n",
       "4        1033      4827 2005-06-15 15:12:04.700  1701.144  1872258.452   \n",
       "6        1890      9157 2005-06-15 15:34:32.700   817.521  1872800.663   \n",
       "\n",
       "   v_length  v_Width  v_Class  v_Vel  v_Acc  Lane_ID  Preceding  Following  \\\n",
       "0      13.0      6.9        2  23.31   2.05        3        500        523   \n",
       "2      14.3      6.9        2  26.54  -0.76        4       2208       2211   \n",
       "3      13.5      6.9        2  37.52  11.20        2       2124       2132   \n",
       "4      13.5      4.4        2  41.99   0.10        1       1029       1040   \n",
       "6      24.0      8.5        3  45.12  -0.55        5       1882       1897   \n",
       "\n",
       "   Space_Headway  Time_Headway Location  Year  Month  Day  \n",
       "0         119.10          5.11   us-101  2005      6   15  \n",
       "2          53.34          2.01     i-80  2005      4   14  \n",
       "3          48.92          1.30   us-101  2005      6   15  \n",
       "4          38.81          0.92   us-101  2005      6   15  \n",
       "6         102.65          2.27   us-101  2005      6   15  "
      ]
     },
     "execution_count": 9,
     "metadata": {},
     "output_type": "execute_result"
    }
   ],
   "source": [
    "# Convert Date to the timestamp\n",
    "df['Global_Time'] = pd.to_datetime(df['Global_Time'],unit='ms')\n",
    "\n",
    "# Split Year, Month & Day from the Global_Time\n",
    "df['Year'] = df.Global_Time.dt.year\n",
    "df['Month'] = df.Global_Time.dt.month\n",
    "df['Day'] = df.Global_Time.dt.day\n",
    "\n",
    "df.head()"
   ]
  },
  {
   "cell_type": "markdown",
   "id": "7b3df0c4",
   "metadata": {},
   "source": [
    "## Understanding the Dataset"
   ]
  },
  {
   "cell_type": "code",
   "execution_count": 10,
   "id": "d1579516",
   "metadata": {},
   "outputs": [
    {
     "data": {
      "text/plain": [
       "3233"
      ]
     },
     "execution_count": 10,
     "metadata": {},
     "output_type": "execute_result"
    }
   ],
   "source": [
    "# Count of Vehicle_ID\n",
    "df['Vehicle_ID'].nunique()"
   ]
  },
  {
   "cell_type": "code",
   "execution_count": 11,
   "id": "4a362814",
   "metadata": {},
   "outputs": [
    {
     "data": {
      "text/plain": [
       "2005    10272639\n",
       "1970      873887\n",
       "Name: Year, dtype: int64"
      ]
     },
     "execution_count": 11,
     "metadata": {},
     "output_type": "execute_result"
    }
   ],
   "source": [
    "df['Year'].value_counts()"
   ]
  },
  {
   "cell_type": "code",
   "execution_count": 12,
   "id": "f5b5e692",
   "metadata": {},
   "outputs": [
    {
     "data": {
      "text/plain": [
       "6    5706252\n",
       "4    4566387\n",
       "1     873887\n",
       "Name: Month, dtype: int64"
      ]
     },
     "execution_count": 12,
     "metadata": {},
     "output_type": "execute_result"
    }
   ],
   "source": [
    "df['Month'].value_counts()"
   ]
  },
  {
   "cell_type": "code",
   "execution_count": 13,
   "id": "f9a4723c",
   "metadata": {},
   "outputs": [
    {
     "data": {
      "text/plain": [
       "15    4098933\n",
       "16    1607319\n",
       "Name: Day, dtype: int64"
      ]
     },
     "execution_count": 13,
     "metadata": {},
     "output_type": "execute_result"
    }
   ],
   "source": [
    "df[(df['Year']== 2005) & (df['Month']== 6)]['Day'].value_counts()"
   ]
  },
  {
   "cell_type": "code",
   "execution_count": 14,
   "id": "184a0a2f",
   "metadata": {},
   "outputs": [
    {
     "data": {
      "text/plain": [
       "array([   2,    1,    0,   11, 9999,    3, 1061,    4, 1201, 1131, 2081],\n",
       "      dtype=int64)"
      ]
     },
     "execution_count": 14,
     "metadata": {},
     "output_type": "execute_result"
    }
   ],
   "source": [
    "df[df['Location'] == 'peachtree']['Lane_ID'].unique()"
   ]
  },
  {
   "cell_type": "code",
   "execution_count": 15,
   "id": "347fcddf",
   "metadata": {},
   "outputs": [
    {
     "data": {
      "text/plain": [
       "array([4, 5, 6, 3, 2, 1, 7], dtype=int64)"
      ]
     },
     "execution_count": 15,
     "metadata": {},
     "output_type": "execute_result"
    }
   ],
   "source": [
    "df[df['Location'] == 'i-80']['Lane_ID'].unique()"
   ]
  },
  {
   "cell_type": "code",
   "execution_count": 16,
   "id": "d9852520",
   "metadata": {},
   "outputs": [
    {
     "data": {
      "text/plain": [
       "array([  1,  12,   3,   2,   4,   0,  11,  31, 101], dtype=int64)"
      ]
     },
     "execution_count": 16,
     "metadata": {},
     "output_type": "execute_result"
    }
   ],
   "source": [
    "df[df['Location'] == 'lankershim']['Lane_ID'].unique()"
   ]
  },
  {
   "cell_type": "code",
   "execution_count": 17,
   "id": "ef0c104c",
   "metadata": {},
   "outputs": [
    {
     "data": {
      "text/plain": [
       "array([3, 2, 1, 5, 4, 6, 7, 8], dtype=int64)"
      ]
     },
     "execution_count": 17,
     "metadata": {},
     "output_type": "execute_result"
    }
   ],
   "source": [
    "df[df['Location'] == 'us-101']['Lane_ID'].unique()"
   ]
  },
  {
   "cell_type": "markdown",
   "id": "d6606a7d",
   "metadata": {},
   "source": [
    "#### Check how the Location and Lane_ID are connected with each other "
   ]
  },
  {
   "cell_type": "code",
   "execution_count": 18,
   "id": "1572e600",
   "metadata": {
    "scrolled": true
   },
   "outputs": [
    {
     "data": {
      "text/plain": [
       "i-80          4566387\n",
       "us-101        4098933\n",
       "lankershim    1607319\n",
       "peachtree      873887\n",
       "Name: Location, dtype: int64"
      ]
     },
     "execution_count": 18,
     "metadata": {},
     "output_type": "execute_result"
    }
   ],
   "source": [
    "df.Location.value_counts()"
   ]
  },
  {
   "cell_type": "code",
   "execution_count": 19,
   "id": "20156965",
   "metadata": {
    "scrolled": true
   },
   "outputs": [
    {
     "data": {
      "text/html": [
       "<div>\n",
       "<style scoped>\n",
       "    .dataframe tbody tr th:only-of-type {\n",
       "        vertical-align: middle;\n",
       "    }\n",
       "\n",
       "    .dataframe tbody tr th {\n",
       "        vertical-align: top;\n",
       "    }\n",
       "\n",
       "    .dataframe thead th {\n",
       "        text-align: right;\n",
       "    }\n",
       "</style>\n",
       "<table border=\"1\" class=\"dataframe\">\n",
       "  <thead>\n",
       "    <tr style=\"text-align: right;\">\n",
       "      <th></th>\n",
       "      <th>Lane_ID</th>\n",
       "    </tr>\n",
       "    <tr>\n",
       "      <th>Location</th>\n",
       "      <th></th>\n",
       "    </tr>\n",
       "  </thead>\n",
       "  <tbody>\n",
       "    <tr>\n",
       "      <th>i-80</th>\n",
       "      <td>7</td>\n",
       "    </tr>\n",
       "    <tr>\n",
       "      <th>lankershim</th>\n",
       "      <td>101</td>\n",
       "    </tr>\n",
       "    <tr>\n",
       "      <th>peachtree</th>\n",
       "      <td>9999</td>\n",
       "    </tr>\n",
       "    <tr>\n",
       "      <th>us-101</th>\n",
       "      <td>8</td>\n",
       "    </tr>\n",
       "  </tbody>\n",
       "</table>\n",
       "</div>"
      ],
      "text/plain": [
       "            Lane_ID\n",
       "Location           \n",
       "i-80              7\n",
       "lankershim      101\n",
       "peachtree      9999\n",
       "us-101            8"
      ]
     },
     "execution_count": 19,
     "metadata": {},
     "output_type": "execute_result"
    }
   ],
   "source": [
    "df[['Location', 'Lane_ID']].groupby('Location').max()"
   ]
  },
  {
   "cell_type": "markdown",
   "id": "0c8160e4",
   "metadata": {},
   "source": [
    "## Sort dataframe on Vehicle_ID, Global_Time and Frame_Id fields"
   ]
  },
  {
   "cell_type": "code",
   "execution_count": 20,
   "id": "c2981048",
   "metadata": {},
   "outputs": [
    {
     "data": {
      "text/html": [
       "<div>\n",
       "<style scoped>\n",
       "    .dataframe tbody tr th:only-of-type {\n",
       "        vertical-align: middle;\n",
       "    }\n",
       "\n",
       "    .dataframe tbody tr th {\n",
       "        vertical-align: top;\n",
       "    }\n",
       "\n",
       "    .dataframe thead th {\n",
       "        text-align: right;\n",
       "    }\n",
       "</style>\n",
       "<table border=\"1\" class=\"dataframe\">\n",
       "  <thead>\n",
       "    <tr style=\"text-align: right;\">\n",
       "      <th></th>\n",
       "      <th>Vehicle_ID</th>\n",
       "      <th>Frame_ID</th>\n",
       "      <th>Global_Time</th>\n",
       "      <th>Local_Y</th>\n",
       "      <th>Global_Y</th>\n",
       "      <th>v_length</th>\n",
       "      <th>v_Width</th>\n",
       "      <th>v_Class</th>\n",
       "      <th>v_Vel</th>\n",
       "      <th>v_Acc</th>\n",
       "      <th>Lane_ID</th>\n",
       "      <th>Preceding</th>\n",
       "      <th>Following</th>\n",
       "      <th>Space_Headway</th>\n",
       "      <th>Time_Headway</th>\n",
       "      <th>Location</th>\n",
       "      <th>Year</th>\n",
       "      <th>Month</th>\n",
       "      <th>Day</th>\n",
       "    </tr>\n",
       "  </thead>\n",
       "  <tbody>\n",
       "    <tr>\n",
       "      <th>0</th>\n",
       "      <td>1</td>\n",
       "      <td>12</td>\n",
       "      <td>2005-04-13 22:58:56.100</td>\n",
       "      <td>48.213</td>\n",
       "      <td>2133117.662</td>\n",
       "      <td>14.3</td>\n",
       "      <td>6.4</td>\n",
       "      <td>2</td>\n",
       "      <td>12.5</td>\n",
       "      <td>0.0</td>\n",
       "      <td>2</td>\n",
       "      <td>0</td>\n",
       "      <td>0</td>\n",
       "      <td>0.0</td>\n",
       "      <td>0.0</td>\n",
       "      <td>i-80</td>\n",
       "      <td>2005</td>\n",
       "      <td>4</td>\n",
       "      <td>13</td>\n",
       "    </tr>\n",
       "    <tr>\n",
       "      <th>1</th>\n",
       "      <td>1</td>\n",
       "      <td>13</td>\n",
       "      <td>2005-04-13 22:58:56.200</td>\n",
       "      <td>49.463</td>\n",
       "      <td>2133118.909</td>\n",
       "      <td>14.3</td>\n",
       "      <td>6.4</td>\n",
       "      <td>2</td>\n",
       "      <td>12.5</td>\n",
       "      <td>0.0</td>\n",
       "      <td>2</td>\n",
       "      <td>0</td>\n",
       "      <td>0</td>\n",
       "      <td>0.0</td>\n",
       "      <td>0.0</td>\n",
       "      <td>i-80</td>\n",
       "      <td>2005</td>\n",
       "      <td>4</td>\n",
       "      <td>13</td>\n",
       "    </tr>\n",
       "    <tr>\n",
       "      <th>2</th>\n",
       "      <td>1</td>\n",
       "      <td>14</td>\n",
       "      <td>2005-04-13 22:58:56.300</td>\n",
       "      <td>50.712</td>\n",
       "      <td>2133120.155</td>\n",
       "      <td>14.3</td>\n",
       "      <td>6.4</td>\n",
       "      <td>2</td>\n",
       "      <td>12.5</td>\n",
       "      <td>0.0</td>\n",
       "      <td>2</td>\n",
       "      <td>0</td>\n",
       "      <td>0</td>\n",
       "      <td>0.0</td>\n",
       "      <td>0.0</td>\n",
       "      <td>i-80</td>\n",
       "      <td>2005</td>\n",
       "      <td>4</td>\n",
       "      <td>13</td>\n",
       "    </tr>\n",
       "    <tr>\n",
       "      <th>3</th>\n",
       "      <td>1</td>\n",
       "      <td>15</td>\n",
       "      <td>2005-04-13 22:58:56.400</td>\n",
       "      <td>51.963</td>\n",
       "      <td>2133121.402</td>\n",
       "      <td>14.3</td>\n",
       "      <td>6.4</td>\n",
       "      <td>2</td>\n",
       "      <td>12.5</td>\n",
       "      <td>0.0</td>\n",
       "      <td>2</td>\n",
       "      <td>0</td>\n",
       "      <td>0</td>\n",
       "      <td>0.0</td>\n",
       "      <td>0.0</td>\n",
       "      <td>i-80</td>\n",
       "      <td>2005</td>\n",
       "      <td>4</td>\n",
       "      <td>13</td>\n",
       "    </tr>\n",
       "    <tr>\n",
       "      <th>4</th>\n",
       "      <td>1</td>\n",
       "      <td>16</td>\n",
       "      <td>2005-04-13 22:58:56.500</td>\n",
       "      <td>53.213</td>\n",
       "      <td>2133122.649</td>\n",
       "      <td>14.3</td>\n",
       "      <td>6.4</td>\n",
       "      <td>2</td>\n",
       "      <td>12.5</td>\n",
       "      <td>0.0</td>\n",
       "      <td>2</td>\n",
       "      <td>0</td>\n",
       "      <td>0</td>\n",
       "      <td>0.0</td>\n",
       "      <td>0.0</td>\n",
       "      <td>i-80</td>\n",
       "      <td>2005</td>\n",
       "      <td>4</td>\n",
       "      <td>13</td>\n",
       "    </tr>\n",
       "  </tbody>\n",
       "</table>\n",
       "</div>"
      ],
      "text/plain": [
       "   Vehicle_ID  Frame_ID             Global_Time  Local_Y     Global_Y  \\\n",
       "0           1        12 2005-04-13 22:58:56.100   48.213  2133117.662   \n",
       "1           1        13 2005-04-13 22:58:56.200   49.463  2133118.909   \n",
       "2           1        14 2005-04-13 22:58:56.300   50.712  2133120.155   \n",
       "3           1        15 2005-04-13 22:58:56.400   51.963  2133121.402   \n",
       "4           1        16 2005-04-13 22:58:56.500   53.213  2133122.649   \n",
       "\n",
       "   v_length  v_Width  v_Class  v_Vel  v_Acc  Lane_ID  Preceding  Following  \\\n",
       "0      14.3      6.4        2   12.5    0.0        2          0          0   \n",
       "1      14.3      6.4        2   12.5    0.0        2          0          0   \n",
       "2      14.3      6.4        2   12.5    0.0        2          0          0   \n",
       "3      14.3      6.4        2   12.5    0.0        2          0          0   \n",
       "4      14.3      6.4        2   12.5    0.0        2          0          0   \n",
       "\n",
       "   Space_Headway  Time_Headway Location  Year  Month  Day  \n",
       "0            0.0           0.0     i-80  2005      4   13  \n",
       "1            0.0           0.0     i-80  2005      4   13  \n",
       "2            0.0           0.0     i-80  2005      4   13  \n",
       "3            0.0           0.0     i-80  2005      4   13  \n",
       "4            0.0           0.0     i-80  2005      4   13  "
      ]
     },
     "execution_count": 20,
     "metadata": {},
     "output_type": "execute_result"
    }
   ],
   "source": [
    "df_main_sorted = df.sort_values(by=['Vehicle_ID', 'Global_Time', 'Frame_ID'], \n",
    "                                ascending=True).reset_index(drop=True)\n",
    "df_main_sorted.head()"
   ]
  },
  {
   "cell_type": "code",
   "execution_count": null,
   "id": "812593ee",
   "metadata": {},
   "outputs": [],
   "source": []
  },
  {
   "cell_type": "code",
   "execution_count": null,
   "id": "7f8f8de7",
   "metadata": {},
   "outputs": [],
   "source": []
  },
  {
   "cell_type": "code",
   "execution_count": null,
   "id": "bb036cc7",
   "metadata": {},
   "outputs": [],
   "source": []
  },
  {
   "cell_type": "code",
   "execution_count": null,
   "id": "a2d16add",
   "metadata": {},
   "outputs": [],
   "source": []
  },
  {
   "cell_type": "markdown",
   "id": "115935ab",
   "metadata": {},
   "source": [
    "# Method# 1 :\n",
    "# Time Series Analysis: Using Auto Regressive Moving Average (ARIMA)"
   ]
  },
  {
   "cell_type": "markdown",
   "id": "50ce5a2e",
   "metadata": {},
   "source": [
    "### Subset the data for 1 Vehicle_ID (randomly picked # 515)"
   ]
  },
  {
   "cell_type": "code",
   "execution_count": 21,
   "id": "bfdab101",
   "metadata": {},
   "outputs": [
    {
     "data": {
      "text/html": [
       "<div>\n",
       "<style scoped>\n",
       "    .dataframe tbody tr th:only-of-type {\n",
       "        vertical-align: middle;\n",
       "    }\n",
       "\n",
       "    .dataframe tbody tr th {\n",
       "        vertical-align: top;\n",
       "    }\n",
       "\n",
       "    .dataframe thead th {\n",
       "        text-align: right;\n",
       "    }\n",
       "</style>\n",
       "<table border=\"1\" class=\"dataframe\">\n",
       "  <thead>\n",
       "    <tr style=\"text-align: right;\">\n",
       "      <th></th>\n",
       "      <th>Vehicle_ID</th>\n",
       "      <th>Frame_ID</th>\n",
       "      <th>Global_Time</th>\n",
       "      <th>Local_Y</th>\n",
       "      <th>Global_Y</th>\n",
       "      <th>v_length</th>\n",
       "      <th>v_Width</th>\n",
       "      <th>v_Class</th>\n",
       "      <th>v_Vel</th>\n",
       "      <th>v_Acc</th>\n",
       "      <th>Lane_ID</th>\n",
       "      <th>Preceding</th>\n",
       "      <th>Following</th>\n",
       "      <th>Space_Headway</th>\n",
       "      <th>Time_Headway</th>\n",
       "      <th>Location</th>\n",
       "      <th>Year</th>\n",
       "      <th>Month</th>\n",
       "      <th>Day</th>\n",
       "    </tr>\n",
       "  </thead>\n",
       "  <tbody>\n",
       "    <tr>\n",
       "      <th>2216257</th>\n",
       "      <td>515</td>\n",
       "      <td>3016</td>\n",
       "      <td>1970-01-14 11:08:40.200</td>\n",
       "      <td>212.390</td>\n",
       "      <td>1375759.455</td>\n",
       "      <td>14.8</td>\n",
       "      <td>7.2</td>\n",
       "      <td>2</td>\n",
       "      <td>16.97</td>\n",
       "      <td>0.0</td>\n",
       "      <td>3</td>\n",
       "      <td>0</td>\n",
       "      <td>0</td>\n",
       "      <td>0.00</td>\n",
       "      <td>0.00</td>\n",
       "      <td>peachtree</td>\n",
       "      <td>1970</td>\n",
       "      <td>1</td>\n",
       "      <td>14</td>\n",
       "    </tr>\n",
       "    <tr>\n",
       "      <th>2216258</th>\n",
       "      <td>515</td>\n",
       "      <td>3017</td>\n",
       "      <td>1970-01-14 11:08:40.300</td>\n",
       "      <td>214.295</td>\n",
       "      <td>1375761.389</td>\n",
       "      <td>14.8</td>\n",
       "      <td>7.2</td>\n",
       "      <td>2</td>\n",
       "      <td>16.97</td>\n",
       "      <td>0.0</td>\n",
       "      <td>0</td>\n",
       "      <td>0</td>\n",
       "      <td>0</td>\n",
       "      <td>0.00</td>\n",
       "      <td>0.00</td>\n",
       "      <td>peachtree</td>\n",
       "      <td>1970</td>\n",
       "      <td>1</td>\n",
       "      <td>14</td>\n",
       "    </tr>\n",
       "    <tr>\n",
       "      <th>2216259</th>\n",
       "      <td>515</td>\n",
       "      <td>3018</td>\n",
       "      <td>1970-01-14 11:08:40.400</td>\n",
       "      <td>216.190</td>\n",
       "      <td>1375763.312</td>\n",
       "      <td>14.8</td>\n",
       "      <td>7.2</td>\n",
       "      <td>2</td>\n",
       "      <td>16.97</td>\n",
       "      <td>0.0</td>\n",
       "      <td>0</td>\n",
       "      <td>0</td>\n",
       "      <td>0</td>\n",
       "      <td>0.00</td>\n",
       "      <td>0.00</td>\n",
       "      <td>peachtree</td>\n",
       "      <td>1970</td>\n",
       "      <td>1</td>\n",
       "      <td>14</td>\n",
       "    </tr>\n",
       "    <tr>\n",
       "      <th>2216260</th>\n",
       "      <td>515</td>\n",
       "      <td>3019</td>\n",
       "      <td>1970-01-14 11:08:40.500</td>\n",
       "      <td>218.077</td>\n",
       "      <td>1375765.225</td>\n",
       "      <td>14.8</td>\n",
       "      <td>7.2</td>\n",
       "      <td>2</td>\n",
       "      <td>16.97</td>\n",
       "      <td>0.0</td>\n",
       "      <td>0</td>\n",
       "      <td>0</td>\n",
       "      <td>0</td>\n",
       "      <td>0.00</td>\n",
       "      <td>0.00</td>\n",
       "      <td>peachtree</td>\n",
       "      <td>1970</td>\n",
       "      <td>1</td>\n",
       "      <td>14</td>\n",
       "    </tr>\n",
       "    <tr>\n",
       "      <th>2216261</th>\n",
       "      <td>515</td>\n",
       "      <td>3020</td>\n",
       "      <td>1970-01-14 11:08:40.600</td>\n",
       "      <td>218.912</td>\n",
       "      <td>1375767.127</td>\n",
       "      <td>14.8</td>\n",
       "      <td>7.2</td>\n",
       "      <td>2</td>\n",
       "      <td>16.97</td>\n",
       "      <td>0.0</td>\n",
       "      <td>2</td>\n",
       "      <td>440</td>\n",
       "      <td>472</td>\n",
       "      <td>388.88</td>\n",
       "      <td>22.92</td>\n",
       "      <td>peachtree</td>\n",
       "      <td>1970</td>\n",
       "      <td>1</td>\n",
       "      <td>14</td>\n",
       "    </tr>\n",
       "  </tbody>\n",
       "</table>\n",
       "</div>"
      ],
      "text/plain": [
       "         Vehicle_ID  Frame_ID             Global_Time  Local_Y     Global_Y  \\\n",
       "2216257         515      3016 1970-01-14 11:08:40.200  212.390  1375759.455   \n",
       "2216258         515      3017 1970-01-14 11:08:40.300  214.295  1375761.389   \n",
       "2216259         515      3018 1970-01-14 11:08:40.400  216.190  1375763.312   \n",
       "2216260         515      3019 1970-01-14 11:08:40.500  218.077  1375765.225   \n",
       "2216261         515      3020 1970-01-14 11:08:40.600  218.912  1375767.127   \n",
       "\n",
       "         v_length  v_Width  v_Class  v_Vel  v_Acc  Lane_ID  Preceding  \\\n",
       "2216257      14.8      7.2        2  16.97    0.0        3          0   \n",
       "2216258      14.8      7.2        2  16.97    0.0        0          0   \n",
       "2216259      14.8      7.2        2  16.97    0.0        0          0   \n",
       "2216260      14.8      7.2        2  16.97    0.0        0          0   \n",
       "2216261      14.8      7.2        2  16.97    0.0        2        440   \n",
       "\n",
       "         Following  Space_Headway  Time_Headway   Location  Year  Month  Day  \n",
       "2216257          0           0.00          0.00  peachtree  1970      1   14  \n",
       "2216258          0           0.00          0.00  peachtree  1970      1   14  \n",
       "2216259          0           0.00          0.00  peachtree  1970      1   14  \n",
       "2216260          0           0.00          0.00  peachtree  1970      1   14  \n",
       "2216261        472         388.88         22.92  peachtree  1970      1   14  "
      ]
     },
     "execution_count": 21,
     "metadata": {},
     "output_type": "execute_result"
    }
   ],
   "source": [
    "df_sub = df_main_sorted[df_main_sorted['Vehicle_ID']==515]\n",
    "df_sub.head()"
   ]
  },
  {
   "cell_type": "code",
   "execution_count": 22,
   "id": "d445b67b",
   "metadata": {},
   "outputs": [
    {
     "data": {
      "text/html": [
       "<div>\n",
       "<style scoped>\n",
       "    .dataframe tbody tr th:only-of-type {\n",
       "        vertical-align: middle;\n",
       "    }\n",
       "\n",
       "    .dataframe tbody tr th {\n",
       "        vertical-align: top;\n",
       "    }\n",
       "\n",
       "    .dataframe thead th {\n",
       "        text-align: right;\n",
       "    }\n",
       "</style>\n",
       "<table border=\"1\" class=\"dataframe\">\n",
       "  <thead>\n",
       "    <tr style=\"text-align: right;\">\n",
       "      <th></th>\n",
       "      <th>Vehicle_ID</th>\n",
       "      <th>Frame_ID</th>\n",
       "      <th>Global_Time</th>\n",
       "      <th>Local_Y</th>\n",
       "      <th>Global_Y</th>\n",
       "      <th>v_length</th>\n",
       "      <th>v_Width</th>\n",
       "      <th>v_Class</th>\n",
       "      <th>v_Vel</th>\n",
       "      <th>v_Acc</th>\n",
       "      <th>Lane_ID</th>\n",
       "      <th>Preceding</th>\n",
       "      <th>Following</th>\n",
       "      <th>Space_Headway</th>\n",
       "      <th>Time_Headway</th>\n",
       "      <th>Location</th>\n",
       "      <th>Year</th>\n",
       "      <th>Month</th>\n",
       "      <th>Day</th>\n",
       "    </tr>\n",
       "  </thead>\n",
       "  <tbody>\n",
       "    <tr>\n",
       "      <th>2216963</th>\n",
       "      <td>515</td>\n",
       "      <td>1585</td>\n",
       "      <td>2005-04-13 23:01:33.400</td>\n",
       "      <td>63.521</td>\n",
       "      <td>2133132.973</td>\n",
       "      <td>13.8</td>\n",
       "      <td>6.8</td>\n",
       "      <td>2</td>\n",
       "      <td>24.69</td>\n",
       "      <td>0.0</td>\n",
       "      <td>2</td>\n",
       "      <td>510</td>\n",
       "      <td>0</td>\n",
       "      <td>48.40</td>\n",
       "      <td>1.96</td>\n",
       "      <td>i-80</td>\n",
       "      <td>2005</td>\n",
       "      <td>4</td>\n",
       "      <td>13</td>\n",
       "    </tr>\n",
       "    <tr>\n",
       "      <th>2216964</th>\n",
       "      <td>515</td>\n",
       "      <td>1586</td>\n",
       "      <td>2005-04-13 23:01:33.500</td>\n",
       "      <td>66.521</td>\n",
       "      <td>2133135.950</td>\n",
       "      <td>13.8</td>\n",
       "      <td>6.8</td>\n",
       "      <td>2</td>\n",
       "      <td>24.69</td>\n",
       "      <td>0.0</td>\n",
       "      <td>2</td>\n",
       "      <td>510</td>\n",
       "      <td>0</td>\n",
       "      <td>47.85</td>\n",
       "      <td>1.94</td>\n",
       "      <td>i-80</td>\n",
       "      <td>2005</td>\n",
       "      <td>4</td>\n",
       "      <td>13</td>\n",
       "    </tr>\n",
       "    <tr>\n",
       "      <th>2216965</th>\n",
       "      <td>515</td>\n",
       "      <td>1587</td>\n",
       "      <td>2005-04-13 23:01:33.600</td>\n",
       "      <td>69.065</td>\n",
       "      <td>2133138.431</td>\n",
       "      <td>13.8</td>\n",
       "      <td>6.8</td>\n",
       "      <td>2</td>\n",
       "      <td>24.69</td>\n",
       "      <td>0.0</td>\n",
       "      <td>2</td>\n",
       "      <td>510</td>\n",
       "      <td>0</td>\n",
       "      <td>47.76</td>\n",
       "      <td>1.93</td>\n",
       "      <td>i-80</td>\n",
       "      <td>2005</td>\n",
       "      <td>4</td>\n",
       "      <td>13</td>\n",
       "    </tr>\n",
       "    <tr>\n",
       "      <th>2216966</th>\n",
       "      <td>515</td>\n",
       "      <td>1588</td>\n",
       "      <td>2005-04-13 23:01:33.700</td>\n",
       "      <td>71.065</td>\n",
       "      <td>2133140.416</td>\n",
       "      <td>13.8</td>\n",
       "      <td>6.8</td>\n",
       "      <td>2</td>\n",
       "      <td>24.69</td>\n",
       "      <td>0.0</td>\n",
       "      <td>2</td>\n",
       "      <td>510</td>\n",
       "      <td>0</td>\n",
       "      <td>48.22</td>\n",
       "      <td>1.95</td>\n",
       "      <td>i-80</td>\n",
       "      <td>2005</td>\n",
       "      <td>4</td>\n",
       "      <td>13</td>\n",
       "    </tr>\n",
       "    <tr>\n",
       "      <th>2216967</th>\n",
       "      <td>515</td>\n",
       "      <td>1589</td>\n",
       "      <td>2005-04-13 23:01:33.800</td>\n",
       "      <td>74.065</td>\n",
       "      <td>2133143.393</td>\n",
       "      <td>13.8</td>\n",
       "      <td>6.8</td>\n",
       "      <td>2</td>\n",
       "      <td>24.69</td>\n",
       "      <td>0.0</td>\n",
       "      <td>2</td>\n",
       "      <td>510</td>\n",
       "      <td>0</td>\n",
       "      <td>47.67</td>\n",
       "      <td>1.93</td>\n",
       "      <td>i-80</td>\n",
       "      <td>2005</td>\n",
       "      <td>4</td>\n",
       "      <td>13</td>\n",
       "    </tr>\n",
       "  </tbody>\n",
       "</table>\n",
       "</div>"
      ],
      "text/plain": [
       "         Vehicle_ID  Frame_ID             Global_Time  Local_Y     Global_Y  \\\n",
       "2216963         515      1585 2005-04-13 23:01:33.400   63.521  2133132.973   \n",
       "2216964         515      1586 2005-04-13 23:01:33.500   66.521  2133135.950   \n",
       "2216965         515      1587 2005-04-13 23:01:33.600   69.065  2133138.431   \n",
       "2216966         515      1588 2005-04-13 23:01:33.700   71.065  2133140.416   \n",
       "2216967         515      1589 2005-04-13 23:01:33.800   74.065  2133143.393   \n",
       "\n",
       "         v_length  v_Width  v_Class  v_Vel  v_Acc  Lane_ID  Preceding  \\\n",
       "2216963      13.8      6.8        2  24.69    0.0        2        510   \n",
       "2216964      13.8      6.8        2  24.69    0.0        2        510   \n",
       "2216965      13.8      6.8        2  24.69    0.0        2        510   \n",
       "2216966      13.8      6.8        2  24.69    0.0        2        510   \n",
       "2216967      13.8      6.8        2  24.69    0.0        2        510   \n",
       "\n",
       "         Following  Space_Headway  Time_Headway Location  Year  Month  Day  \n",
       "2216963          0          48.40          1.96     i-80  2005      4   13  \n",
       "2216964          0          47.85          1.94     i-80  2005      4   13  \n",
       "2216965          0          47.76          1.93     i-80  2005      4   13  \n",
       "2216966          0          48.22          1.95     i-80  2005      4   13  \n",
       "2216967          0          47.67          1.93     i-80  2005      4   13  "
      ]
     },
     "execution_count": 22,
     "metadata": {},
     "output_type": "execute_result"
    }
   ],
   "source": [
    "# Filter it only for the 2005 year.\n",
    "df_sub1 = df_sub[df_sub['Year'] == 2005]\n",
    "df_sub1.head()"
   ]
  },
  {
   "cell_type": "markdown",
   "id": "706d6915",
   "metadata": {},
   "source": [
    "### Differencing the time field"
   ]
  },
  {
   "cell_type": "code",
   "execution_count": 23,
   "id": "f5935a4b",
   "metadata": {},
   "outputs": [
    {
     "name": "stderr",
     "output_type": "stream",
     "text": [
      "C:\\Users\\ajuam\\AppData\\Local\\Temp\\ipykernel_3080\\1856999463.py:3: SettingWithCopyWarning: \n",
      "A value is trying to be set on a copy of a slice from a DataFrame.\n",
      "Try using .loc[row_indexer,col_indexer] = value instead\n",
      "\n",
      "See the caveats in the documentation: https://pandas.pydata.org/pandas-docs/stable/user_guide/indexing.html#returning-a-view-versus-a-copy\n",
      "  df_sub1['Prev_Global_Time'] = df_sub1['Global_Time'].shift(1)\n",
      "C:\\Users\\ajuam\\AppData\\Local\\Temp\\ipykernel_3080\\1856999463.py:4: SettingWithCopyWarning: \n",
      "A value is trying to be set on a copy of a slice from a DataFrame.\n",
      "Try using .loc[row_indexer,col_indexer] = value instead\n",
      "\n",
      "See the caveats in the documentation: https://pandas.pydata.org/pandas-docs/stable/user_guide/indexing.html#returning-a-view-versus-a-copy\n",
      "  df_sub1['Time_Lag'] = df_sub1['Global_Time'] - df_sub1['Prev_Global_Time']\n"
     ]
    },
    {
     "data": {
      "text/html": [
       "<div>\n",
       "<style scoped>\n",
       "    .dataframe tbody tr th:only-of-type {\n",
       "        vertical-align: middle;\n",
       "    }\n",
       "\n",
       "    .dataframe tbody tr th {\n",
       "        vertical-align: top;\n",
       "    }\n",
       "\n",
       "    .dataframe thead th {\n",
       "        text-align: right;\n",
       "    }\n",
       "</style>\n",
       "<table border=\"1\" class=\"dataframe\">\n",
       "  <thead>\n",
       "    <tr style=\"text-align: right;\">\n",
       "      <th></th>\n",
       "      <th>Global_Time</th>\n",
       "      <th>Prev_Global_Time</th>\n",
       "      <th>Time_Lag</th>\n",
       "    </tr>\n",
       "  </thead>\n",
       "  <tbody>\n",
       "    <tr>\n",
       "      <th>2216963</th>\n",
       "      <td>2005-04-13 23:01:33.400</td>\n",
       "      <td>NaT</td>\n",
       "      <td>NaT</td>\n",
       "    </tr>\n",
       "    <tr>\n",
       "      <th>2216964</th>\n",
       "      <td>2005-04-13 23:01:33.500</td>\n",
       "      <td>2005-04-13 23:01:33.400</td>\n",
       "      <td>0 days 00:00:00.100000</td>\n",
       "    </tr>\n",
       "    <tr>\n",
       "      <th>2216965</th>\n",
       "      <td>2005-04-13 23:01:33.600</td>\n",
       "      <td>2005-04-13 23:01:33.500</td>\n",
       "      <td>0 days 00:00:00.100000</td>\n",
       "    </tr>\n",
       "    <tr>\n",
       "      <th>2216966</th>\n",
       "      <td>2005-04-13 23:01:33.700</td>\n",
       "      <td>2005-04-13 23:01:33.600</td>\n",
       "      <td>0 days 00:00:00.100000</td>\n",
       "    </tr>\n",
       "    <tr>\n",
       "      <th>2216967</th>\n",
       "      <td>2005-04-13 23:01:33.800</td>\n",
       "      <td>2005-04-13 23:01:33.700</td>\n",
       "      <td>0 days 00:00:00.100000</td>\n",
       "    </tr>\n",
       "    <tr>\n",
       "      <th>2216968</th>\n",
       "      <td>2005-04-13 23:01:33.900</td>\n",
       "      <td>2005-04-13 23:01:33.800</td>\n",
       "      <td>0 days 00:00:00.100000</td>\n",
       "    </tr>\n",
       "    <tr>\n",
       "      <th>2216969</th>\n",
       "      <td>2005-04-13 23:01:34.000</td>\n",
       "      <td>2005-04-13 23:01:33.900</td>\n",
       "      <td>0 days 00:00:00.100000</td>\n",
       "    </tr>\n",
       "    <tr>\n",
       "      <th>2216970</th>\n",
       "      <td>2005-04-13 23:01:34.100</td>\n",
       "      <td>2005-04-13 23:01:34.000</td>\n",
       "      <td>0 days 00:00:00.100000</td>\n",
       "    </tr>\n",
       "    <tr>\n",
       "      <th>2216971</th>\n",
       "      <td>2005-04-13 23:01:34.200</td>\n",
       "      <td>2005-04-13 23:01:34.100</td>\n",
       "      <td>0 days 00:00:00.100000</td>\n",
       "    </tr>\n",
       "    <tr>\n",
       "      <th>2216972</th>\n",
       "      <td>2005-04-13 23:01:34.300</td>\n",
       "      <td>2005-04-13 23:01:34.200</td>\n",
       "      <td>0 days 00:00:00.100000</td>\n",
       "    </tr>\n",
       "  </tbody>\n",
       "</table>\n",
       "</div>"
      ],
      "text/plain": [
       "                    Global_Time        Prev_Global_Time               Time_Lag\n",
       "2216963 2005-04-13 23:01:33.400                     NaT                    NaT\n",
       "2216964 2005-04-13 23:01:33.500 2005-04-13 23:01:33.400 0 days 00:00:00.100000\n",
       "2216965 2005-04-13 23:01:33.600 2005-04-13 23:01:33.500 0 days 00:00:00.100000\n",
       "2216966 2005-04-13 23:01:33.700 2005-04-13 23:01:33.600 0 days 00:00:00.100000\n",
       "2216967 2005-04-13 23:01:33.800 2005-04-13 23:01:33.700 0 days 00:00:00.100000\n",
       "2216968 2005-04-13 23:01:33.900 2005-04-13 23:01:33.800 0 days 00:00:00.100000\n",
       "2216969 2005-04-13 23:01:34.000 2005-04-13 23:01:33.900 0 days 00:00:00.100000\n",
       "2216970 2005-04-13 23:01:34.100 2005-04-13 23:01:34.000 0 days 00:00:00.100000\n",
       "2216971 2005-04-13 23:01:34.200 2005-04-13 23:01:34.100 0 days 00:00:00.100000\n",
       "2216972 2005-04-13 23:01:34.300 2005-04-13 23:01:34.200 0 days 00:00:00.100000"
      ]
     },
     "execution_count": 23,
     "metadata": {},
     "output_type": "execute_result"
    }
   ],
   "source": [
    "# First check the time difference in time between the 2 consecutive observations of a Vehicle.\n",
    "\n",
    "df_sub1['Prev_Global_Time'] = df_sub1['Global_Time'].shift(1)\n",
    "df_sub1['Time_Lag'] = df_sub1['Global_Time'] - df_sub1['Prev_Global_Time']\n",
    "df_sub1[['Global_Time', 'Prev_Global_Time', 'Time_Lag']].head(10)"
   ]
  },
  {
   "cell_type": "code",
   "execution_count": 24,
   "id": "639ec1d9",
   "metadata": {
    "scrolled": false
   },
   "outputs": [
    {
     "data": {
      "text/plain": [
       "0 days 00:00:00.100000     5538\n",
       "0 days 00:57:53.700000        1\n",
       "0 days 00:16:07               1\n",
       "62 days 14:33:54.500000       1\n",
       "0 days 00:15:25.200000        1\n",
       "0 days 00:13:46.400000        1\n",
       "1 days 00:08:39.200000        1\n",
       "0 days 00:14:41.600000        1\n",
       "Name: Time_Lag, dtype: int64"
      ]
     },
     "execution_count": 24,
     "metadata": {},
     "output_type": "execute_result"
    }
   ],
   "source": [
    "df_sub1.Time_Lag.value_counts(ascending=False)"
   ]
  },
  {
   "cell_type": "markdown",
   "id": "0558a795",
   "metadata": {},
   "source": [
    "## Differencing the Lane_ID & Feature Scaling"
   ]
  },
  {
   "cell_type": "code",
   "execution_count": 25,
   "id": "0085a50a",
   "metadata": {},
   "outputs": [
    {
     "name": "stderr",
     "output_type": "stream",
     "text": [
      "C:\\Users\\ajuam\\AppData\\Local\\Temp\\ipykernel_3080\\3200089324.py:1: SettingWithCopyWarning: \n",
      "A value is trying to be set on a copy of a slice from a DataFrame.\n",
      "Try using .loc[row_indexer,col_indexer] = value instead\n",
      "\n",
      "See the caveats in the documentation: https://pandas.pydata.org/pandas-docs/stable/user_guide/indexing.html#returning-a-view-versus-a-copy\n",
      "  df_sub1['Prev_Lane_ID'] = df_sub1['Lane_ID'].shift(1)\n",
      "C:\\Users\\ajuam\\AppData\\Local\\Temp\\ipykernel_3080\\3200089324.py:2: SettingWithCopyWarning: \n",
      "A value is trying to be set on a copy of a slice from a DataFrame.\n",
      "Try using .loc[row_indexer,col_indexer] = value instead\n",
      "\n",
      "See the caveats in the documentation: https://pandas.pydata.org/pandas-docs/stable/user_guide/indexing.html#returning-a-view-versus-a-copy\n",
      "  df_sub1['In_Same_Lane'] = np.where(df_sub1['Lane_ID'] == df_sub1['Prev_Lane_ID'], 1, 0)\n"
     ]
    },
    {
     "data": {
      "text/html": [
       "<div>\n",
       "<style scoped>\n",
       "    .dataframe tbody tr th:only-of-type {\n",
       "        vertical-align: middle;\n",
       "    }\n",
       "\n",
       "    .dataframe tbody tr th {\n",
       "        vertical-align: top;\n",
       "    }\n",
       "\n",
       "    .dataframe thead th {\n",
       "        text-align: right;\n",
       "    }\n",
       "</style>\n",
       "<table border=\"1\" class=\"dataframe\">\n",
       "  <thead>\n",
       "    <tr style=\"text-align: right;\">\n",
       "      <th></th>\n",
       "      <th>Global_Time</th>\n",
       "      <th>Lane_ID</th>\n",
       "      <th>Prev_Lane_ID</th>\n",
       "      <th>In_Same_Lane</th>\n",
       "    </tr>\n",
       "  </thead>\n",
       "  <tbody>\n",
       "    <tr>\n",
       "      <th>2216963</th>\n",
       "      <td>2005-04-13 23:01:33.400</td>\n",
       "      <td>2</td>\n",
       "      <td>NaN</td>\n",
       "      <td>0</td>\n",
       "    </tr>\n",
       "    <tr>\n",
       "      <th>2216964</th>\n",
       "      <td>2005-04-13 23:01:33.500</td>\n",
       "      <td>2</td>\n",
       "      <td>2.0</td>\n",
       "      <td>1</td>\n",
       "    </tr>\n",
       "    <tr>\n",
       "      <th>2216965</th>\n",
       "      <td>2005-04-13 23:01:33.600</td>\n",
       "      <td>2</td>\n",
       "      <td>2.0</td>\n",
       "      <td>1</td>\n",
       "    </tr>\n",
       "    <tr>\n",
       "      <th>2216966</th>\n",
       "      <td>2005-04-13 23:01:33.700</td>\n",
       "      <td>2</td>\n",
       "      <td>2.0</td>\n",
       "      <td>1</td>\n",
       "    </tr>\n",
       "    <tr>\n",
       "      <th>2216967</th>\n",
       "      <td>2005-04-13 23:01:33.800</td>\n",
       "      <td>2</td>\n",
       "      <td>2.0</td>\n",
       "      <td>1</td>\n",
       "    </tr>\n",
       "  </tbody>\n",
       "</table>\n",
       "</div>"
      ],
      "text/plain": [
       "                    Global_Time  Lane_ID  Prev_Lane_ID  In_Same_Lane\n",
       "2216963 2005-04-13 23:01:33.400        2           NaN             0\n",
       "2216964 2005-04-13 23:01:33.500        2           2.0             1\n",
       "2216965 2005-04-13 23:01:33.600        2           2.0             1\n",
       "2216966 2005-04-13 23:01:33.700        2           2.0             1\n",
       "2216967 2005-04-13 23:01:33.800        2           2.0             1"
      ]
     },
     "execution_count": 25,
     "metadata": {},
     "output_type": "execute_result"
    }
   ],
   "source": [
    "df_sub1['Prev_Lane_ID'] = df_sub1['Lane_ID'].shift(1)\n",
    "df_sub1['In_Same_Lane'] = np.where(df_sub1['Lane_ID'] == df_sub1['Prev_Lane_ID'], 1, 0)\n",
    "df_sub1[['Global_Time', 'Lane_ID', 'Prev_Lane_ID', 'In_Same_Lane']].head()"
   ]
  },
  {
   "cell_type": "code",
   "execution_count": 26,
   "id": "ce9b4709",
   "metadata": {
    "scrolled": true
   },
   "outputs": [
    {
     "data": {
      "text/plain": [
       "Index(['Vehicle_ID', 'Frame_ID', 'Global_Time', 'Local_Y', 'Global_Y',\n",
       "       'v_length', 'v_Width', 'v_Class', 'v_Vel', 'v_Acc', 'Lane_ID',\n",
       "       'Preceding', 'Following', 'Space_Headway', 'Time_Headway', 'Location',\n",
       "       'Year', 'Month', 'Day', 'Prev_Global_Time', 'Time_Lag', 'Prev_Lane_ID',\n",
       "       'In_Same_Lane'],\n",
       "      dtype='object')"
      ]
     },
     "execution_count": 26,
     "metadata": {},
     "output_type": "execute_result"
    }
   ],
   "source": [
    "df_sub1.columns"
   ]
  },
  {
   "cell_type": "code",
   "execution_count": 27,
   "id": "9855766c",
   "metadata": {},
   "outputs": [
    {
     "data": {
      "text/plain": [
       "(5531, 23)"
      ]
     },
     "execution_count": 27,
     "metadata": {},
     "output_type": "execute_result"
    }
   ],
   "source": [
    "# Subsetting the dataframe to remove line change occurences\n",
    "\n",
    "df_sub2 = df_sub1[df_sub1['In_Same_Lane'] == 1].reset_index(drop=True)\n",
    "df_sub2.shape"
   ]
  },
  {
   "cell_type": "code",
   "execution_count": 28,
   "id": "db09a4e3",
   "metadata": {},
   "outputs": [
    {
     "data": {
      "text/plain": [
       "<seaborn.axisgrid.PairGrid at 0x202572eba60>"
      ]
     },
     "execution_count": 28,
     "metadata": {},
     "output_type": "execute_result"
    },
    {
     "data": {
      "image/png": "[encoded data removed]",
      "text/plain": [
       "<Figure size 1500x1500 with 42 Axes>"
      ]
     },
     "metadata": {},
     "output_type": "display_data"
    }
   ],
   "source": [
    "# From the above, Vehicle dimentions / class dont seem to have much corr with the Vel, Hence keeping relevant features.\n",
    "\n",
    "sns.pairplot(df_sub2[['v_Vel', 'v_length', 'v_Width', 'Preceding', \n",
    "                    'Following', 'Space_Headway', 'Location', 'Time_Lag']])"
   ]
  },
  {
   "cell_type": "code",
   "execution_count": 29,
   "id": "ccbea9c7",
   "metadata": {},
   "outputs": [
    {
     "data": {
      "image/png": "[encoded data removed]",
      "text/plain": [
       "<Figure size 500x400 with 2 Axes>"
      ]
     },
     "metadata": {},
     "output_type": "display_data"
    }
   ],
   "source": [
    "corr = df_sub2[['v_Vel', 'v_length', 'v_Width', 'Preceding', 'Following', \n",
    "              'Space_Headway', 'Location', 'Time_Lag']].corr()\n",
    "plt.figure(figsize=(5,4))\n",
    "sns.heatmap(corr, annot=True, cmap='YlGnBu')\n",
    "plt.show()"
   ]
  },
  {
   "cell_type": "markdown",
   "id": "f6365ccc",
   "metadata": {},
   "source": [
    "### Could not find considerable correlation among the variables.\n",
    "### Hence proceeding with Auto Regressive Moving Average Model"
   ]
  },
  {
   "cell_type": "markdown",
   "id": "9d632d8b",
   "metadata": {},
   "source": [
    "## Apply ARIMA Model"
   ]
  },
  {
   "cell_type": "code",
   "execution_count": 30,
   "id": "c7da95fb",
   "metadata": {},
   "outputs": [
    {
     "data": {
      "text/html": [
       "<div>\n",
       "<style scoped>\n",
       "    .dataframe tbody tr th:only-of-type {\n",
       "        vertical-align: middle;\n",
       "    }\n",
       "\n",
       "    .dataframe tbody tr th {\n",
       "        vertical-align: top;\n",
       "    }\n",
       "\n",
       "    .dataframe thead th {\n",
       "        text-align: right;\n",
       "    }\n",
       "</style>\n",
       "<table border=\"1\" class=\"dataframe\">\n",
       "  <thead>\n",
       "    <tr style=\"text-align: right;\">\n",
       "      <th></th>\n",
       "      <th>v_Vel</th>\n",
       "    </tr>\n",
       "  </thead>\n",
       "  <tbody>\n",
       "    <tr>\n",
       "      <th>0</th>\n",
       "      <td>24.69</td>\n",
       "    </tr>\n",
       "    <tr>\n",
       "      <th>1</th>\n",
       "      <td>24.69</td>\n",
       "    </tr>\n",
       "    <tr>\n",
       "      <th>2</th>\n",
       "      <td>24.69</td>\n",
       "    </tr>\n",
       "    <tr>\n",
       "      <th>3</th>\n",
       "      <td>24.69</td>\n",
       "    </tr>\n",
       "    <tr>\n",
       "      <th>4</th>\n",
       "      <td>24.69</td>\n",
       "    </tr>\n",
       "  </tbody>\n",
       "</table>\n",
       "</div>"
      ],
      "text/plain": [
       "   v_Vel\n",
       "0  24.69\n",
       "1  24.69\n",
       "2  24.69\n",
       "3  24.69\n",
       "4  24.69"
      ]
     },
     "execution_count": 30,
     "metadata": {},
     "output_type": "execute_result"
    }
   ],
   "source": [
    "df_sub3 = df_sub2[['v_Vel']].reset_index(drop=True)\n",
    "df_sub3.head()"
   ]
  },
  {
   "cell_type": "code",
   "execution_count": 31,
   "id": "3161fde6",
   "metadata": {},
   "outputs": [
    {
     "data": {
      "image/png": "[encoded data removed]",
      "text/plain": [
       "<Figure size 1000x300 with 1 Axes>"
      ]
     },
     "metadata": {},
     "output_type": "display_data"
    }
   ],
   "source": [
    "plt.figure(figsize=(10,3))\n",
    "plt.plot(df_sub3.v_Vel)\n",
    "plt.show()"
   ]
  },
  {
   "cell_type": "code",
   "execution_count": 32,
   "id": "e2bd7e6a",
   "metadata": {
    "scrolled": true
   },
   "outputs": [
    {
     "data": {
      "image/png": "[encoded data removed]",
      "text/plain": [
       "<Figure size 1000x300 with 1 Axes>"
      ]
     },
     "metadata": {},
     "output_type": "display_data"
    }
   ],
   "source": [
    "# Take a closer look at the last 300 datapoints of Velocity\n",
    "\n",
    "plt.figure(figsize=(10,3))\n",
    "plt.plot(df_sub3.v_Vel.tail(1000))\n",
    "plt.show()"
   ]
  },
  {
   "cell_type": "markdown",
   "id": "8c19bca6",
   "metadata": {},
   "source": [
    "### Find the Differencing \"d\" value"
   ]
  },
  {
   "cell_type": "code",
   "execution_count": 33,
   "id": "c378ca85",
   "metadata": {},
   "outputs": [
    {
     "data": {
      "text/html": [
       "<div>\n",
       "<style scoped>\n",
       "    .dataframe tbody tr th:only-of-type {\n",
       "        vertical-align: middle;\n",
       "    }\n",
       "\n",
       "    .dataframe tbody tr th {\n",
       "        vertical-align: top;\n",
       "    }\n",
       "\n",
       "    .dataframe thead th {\n",
       "        text-align: right;\n",
       "    }\n",
       "</style>\n",
       "<table border=\"1\" class=\"dataframe\">\n",
       "  <thead>\n",
       "    <tr style=\"text-align: right;\">\n",
       "      <th></th>\n",
       "      <th>Vehicle_ID</th>\n",
       "      <th>Frame_ID</th>\n",
       "      <th>Global_Time</th>\n",
       "      <th>Local_Y</th>\n",
       "      <th>Global_Y</th>\n",
       "      <th>v_length</th>\n",
       "      <th>v_Width</th>\n",
       "      <th>v_Class</th>\n",
       "      <th>v_Vel</th>\n",
       "      <th>v_Acc</th>\n",
       "      <th>...</th>\n",
       "      <th>Space_Headway</th>\n",
       "      <th>Time_Headway</th>\n",
       "      <th>Location</th>\n",
       "      <th>Year</th>\n",
       "      <th>Month</th>\n",
       "      <th>Day</th>\n",
       "      <th>Prev_Global_Time</th>\n",
       "      <th>Time_Lag</th>\n",
       "      <th>Prev_Lane_ID</th>\n",
       "      <th>In_Same_Lane</th>\n",
       "    </tr>\n",
       "  </thead>\n",
       "  <tbody>\n",
       "    <tr>\n",
       "      <th>0</th>\n",
       "      <td>515</td>\n",
       "      <td>1586</td>\n",
       "      <td>2005-04-13 23:01:33.500</td>\n",
       "      <td>66.521</td>\n",
       "      <td>2133135.950</td>\n",
       "      <td>13.8</td>\n",
       "      <td>6.8</td>\n",
       "      <td>2</td>\n",
       "      <td>24.69</td>\n",
       "      <td>0.00</td>\n",
       "      <td>...</td>\n",
       "      <td>47.85</td>\n",
       "      <td>1.94</td>\n",
       "      <td>i-80</td>\n",
       "      <td>2005</td>\n",
       "      <td>4</td>\n",
       "      <td>13</td>\n",
       "      <td>2005-04-13 23:01:33.400</td>\n",
       "      <td>0 days 00:00:00.100000</td>\n",
       "      <td>2.0</td>\n",
       "      <td>1</td>\n",
       "    </tr>\n",
       "    <tr>\n",
       "      <th>1</th>\n",
       "      <td>515</td>\n",
       "      <td>1587</td>\n",
       "      <td>2005-04-13 23:01:33.600</td>\n",
       "      <td>69.065</td>\n",
       "      <td>2133138.431</td>\n",
       "      <td>13.8</td>\n",
       "      <td>6.8</td>\n",
       "      <td>2</td>\n",
       "      <td>24.69</td>\n",
       "      <td>0.00</td>\n",
       "      <td>...</td>\n",
       "      <td>47.76</td>\n",
       "      <td>1.93</td>\n",
       "      <td>i-80</td>\n",
       "      <td>2005</td>\n",
       "      <td>4</td>\n",
       "      <td>13</td>\n",
       "      <td>2005-04-13 23:01:33.500</td>\n",
       "      <td>0 days 00:00:00.100000</td>\n",
       "      <td>2.0</td>\n",
       "      <td>1</td>\n",
       "    </tr>\n",
       "    <tr>\n",
       "      <th>2</th>\n",
       "      <td>515</td>\n",
       "      <td>1588</td>\n",
       "      <td>2005-04-13 23:01:33.700</td>\n",
       "      <td>71.065</td>\n",
       "      <td>2133140.416</td>\n",
       "      <td>13.8</td>\n",
       "      <td>6.8</td>\n",
       "      <td>2</td>\n",
       "      <td>24.69</td>\n",
       "      <td>0.00</td>\n",
       "      <td>...</td>\n",
       "      <td>48.22</td>\n",
       "      <td>1.95</td>\n",
       "      <td>i-80</td>\n",
       "      <td>2005</td>\n",
       "      <td>4</td>\n",
       "      <td>13</td>\n",
       "      <td>2005-04-13 23:01:33.600</td>\n",
       "      <td>0 days 00:00:00.100000</td>\n",
       "      <td>2.0</td>\n",
       "      <td>1</td>\n",
       "    </tr>\n",
       "    <tr>\n",
       "      <th>3</th>\n",
       "      <td>515</td>\n",
       "      <td>1589</td>\n",
       "      <td>2005-04-13 23:01:33.800</td>\n",
       "      <td>74.065</td>\n",
       "      <td>2133143.393</td>\n",
       "      <td>13.8</td>\n",
       "      <td>6.8</td>\n",
       "      <td>2</td>\n",
       "      <td>24.69</td>\n",
       "      <td>0.00</td>\n",
       "      <td>...</td>\n",
       "      <td>47.67</td>\n",
       "      <td>1.93</td>\n",
       "      <td>i-80</td>\n",
       "      <td>2005</td>\n",
       "      <td>4</td>\n",
       "      <td>13</td>\n",
       "      <td>2005-04-13 23:01:33.700</td>\n",
       "      <td>0 days 00:00:00.100000</td>\n",
       "      <td>2.0</td>\n",
       "      <td>1</td>\n",
       "    </tr>\n",
       "    <tr>\n",
       "      <th>4</th>\n",
       "      <td>515</td>\n",
       "      <td>1590</td>\n",
       "      <td>2005-04-13 23:01:33.900</td>\n",
       "      <td>76.372</td>\n",
       "      <td>2133145.650</td>\n",
       "      <td>13.8</td>\n",
       "      <td>6.8</td>\n",
       "      <td>2</td>\n",
       "      <td>24.69</td>\n",
       "      <td>-4.67</td>\n",
       "      <td>...</td>\n",
       "      <td>47.81</td>\n",
       "      <td>1.94</td>\n",
       "      <td>i-80</td>\n",
       "      <td>2005</td>\n",
       "      <td>4</td>\n",
       "      <td>13</td>\n",
       "      <td>2005-04-13 23:01:33.800</td>\n",
       "      <td>0 days 00:00:00.100000</td>\n",
       "      <td>2.0</td>\n",
       "      <td>1</td>\n",
       "    </tr>\n",
       "  </tbody>\n",
       "</table>\n",
       "<p>5 rows × 23 columns</p>\n",
       "</div>"
      ],
      "text/plain": [
       "   Vehicle_ID  Frame_ID             Global_Time  Local_Y     Global_Y  \\\n",
       "0         515      1586 2005-04-13 23:01:33.500   66.521  2133135.950   \n",
       "1         515      1587 2005-04-13 23:01:33.600   69.065  2133138.431   \n",
       "2         515      1588 2005-04-13 23:01:33.700   71.065  2133140.416   \n",
       "3         515      1589 2005-04-13 23:01:33.800   74.065  2133143.393   \n",
       "4         515      1590 2005-04-13 23:01:33.900   76.372  2133145.650   \n",
       "\n",
       "   v_length  v_Width  v_Class  v_Vel  v_Acc  ...  Space_Headway  Time_Headway  \\\n",
       "0      13.8      6.8        2  24.69   0.00  ...          47.85          1.94   \n",
       "1      13.8      6.8        2  24.69   0.00  ...          47.76          1.93   \n",
       "2      13.8      6.8        2  24.69   0.00  ...          48.22          1.95   \n",
       "3      13.8      6.8        2  24.69   0.00  ...          47.67          1.93   \n",
       "4      13.8      6.8        2  24.69  -4.67  ...          47.81          1.94   \n",
       "\n",
       "   Location  Year  Month Day        Prev_Global_Time               Time_Lag  \\\n",
       "0      i-80  2005      4  13 2005-04-13 23:01:33.400 0 days 00:00:00.100000   \n",
       "1      i-80  2005      4  13 2005-04-13 23:01:33.500 0 days 00:00:00.100000   \n",
       "2      i-80  2005      4  13 2005-04-13 23:01:33.600 0 days 00:00:00.100000   \n",
       "3      i-80  2005      4  13 2005-04-13 23:01:33.700 0 days 00:00:00.100000   \n",
       "4      i-80  2005      4  13 2005-04-13 23:01:33.800 0 days 00:00:00.100000   \n",
       "\n",
       "   Prev_Lane_ID In_Same_Lane  \n",
       "0           2.0            1  \n",
       "1           2.0            1  \n",
       "2           2.0            1  \n",
       "3           2.0            1  \n",
       "4           2.0            1  \n",
       "\n",
       "[5 rows x 23 columns]"
      ]
     },
     "execution_count": 33,
     "metadata": {},
     "output_type": "execute_result"
    }
   ],
   "source": [
    "df_sub2.head()"
   ]
  },
  {
   "cell_type": "code",
   "execution_count": 34,
   "id": "455ff432",
   "metadata": {},
   "outputs": [
    {
     "data": {
      "image/png": "[encoded data removed]",
      "text/plain": [
       "<Figure size 1200x400 with 2 Axes>"
      ]
     },
     "metadata": {},
     "output_type": "display_data"
    }
   ],
   "source": [
    "f = plt.figure(figsize=(12,4))\n",
    "ax1 = f.add_subplot(121)\n",
    "ax1.set_title('1st Order Differencing')\n",
    "ax1.plot(df_sub2.v_Vel.diff())\n",
    "\n",
    "ax2 = f.add_subplot(122)\n",
    "plot_acf(df_sub2.v_Vel.diff().dropna(), ax=ax2)\n",
    "plt.show()"
   ]
  },
  {
   "cell_type": "code",
   "execution_count": 35,
   "id": "acb741f1",
   "metadata": {},
   "outputs": [
    {
     "data": {
      "image/png": "[encoded data removed]",
      "text/plain": [
       "<Figure size 1200x400 with 2 Axes>"
      ]
     },
     "metadata": {},
     "output_type": "display_data"
    }
   ],
   "source": [
    "f = plt.figure(figsize=(12,4))\n",
    "ax1 = f.add_subplot(121)\n",
    "ax1.set_title('2nd Order Differencing')\n",
    "ax1.plot(df_sub2.v_Vel.diff().diff())\n",
    "\n",
    "ax2 = f.add_subplot(122)\n",
    "plot_acf(df_sub2.v_Vel.diff().diff().dropna(), ax=ax2)\n",
    "plt.show()"
   ]
  },
  {
   "cell_type": "code",
   "execution_count": 36,
   "id": "6189a00d",
   "metadata": {},
   "outputs": [
    {
     "name": "stdout",
     "output_type": "stream",
     "text": [
      "p-value:  0.1305317359678878\n",
      "p-value with diff at 2 degree (d): 1.2761442329344214e-20\n",
      "p-value with diff at 3 degree (d): 1.764963401956173e-19\n",
      "p-value with diff at 4 degree (d): 6.245961269884579e-21\n",
      "p-value with diff at 5 degree (d): 3.724695629364263e-21\n",
      "p-value with diff at 6 degree (d): 3.491270862321116e-20\n",
      "p-value with diff at 7 degree (d): 1.2974294658732756e-20\n"
     ]
    }
   ],
   "source": [
    "# From the above ACF chart, the 2nd order differencing suggests considering 4 as d but we can reconfirm the same using ADF.\n",
    "\n",
    "res = adfuller(df_sub2.v_Vel.dropna())\n",
    "print('p-value: ', res[1])\n",
    "\n",
    "for i in range(2,8):\n",
    "    res = adfuller(df_sub2.v_Vel.diff(i).dropna())\n",
    "    print(f'p-value with diff at {i} degree (d): {res[1]}')\n"
   ]
  },
  {
   "cell_type": "markdown",
   "id": "2689a87f",
   "metadata": {},
   "source": [
    "### Find the order for the AR model: \"p\" value"
   ]
  },
  {
   "cell_type": "code",
   "execution_count": 37,
   "id": "5deb00ba",
   "metadata": {},
   "outputs": [
    {
     "name": "stderr",
     "output_type": "stream",
     "text": [
      "C:\\Users\\ajuam\\anaconda3\\lib\\site-packages\\statsmodels\\graphics\\tsaplots.py:348: FutureWarning: The default method 'yw' can produce PACF values outside of the [-1,1] interval. After 0.13, the default will change tounadjusted Yule-Walker ('ywm'). You can use this method now by setting method='ywm'.\n",
      "  warnings.warn(\n"
     ]
    },
    {
     "data": {
      "image/png": "[encoded data removed]",
      "text/plain": [
       "<Figure size 1200x400 with 2 Axes>"
      ]
     },
     "metadata": {},
     "output_type": "display_data"
    }
   ],
   "source": [
    "f = plt.figure(figsize=(12,4))\n",
    "ax1 = f.add_subplot(121)\n",
    "ax1.set_title('1st Order Differencing')\n",
    "ax1.plot(df_sub2.v_Vel.diff())\n",
    "\n",
    "ax2 = f.add_subplot(122)\n",
    "plot_pacf(df_sub2.v_Vel.diff().dropna(), ax=ax2)\n",
    "plt.show()"
   ]
  },
  {
   "cell_type": "code",
   "execution_count": 38,
   "id": "43623a18",
   "metadata": {},
   "outputs": [
    {
     "data": {
      "image/png": "[encoded data removed]",
      "text/plain": [
       "<Figure size 1200x400 with 2 Axes>"
      ]
     },
     "metadata": {},
     "output_type": "display_data"
    }
   ],
   "source": [
    "f = plt.figure(figsize=(12,4))\n",
    "ax1 = f.add_subplot(121)\n",
    "ax1.set_title('2nd Order Differencing')\n",
    "ax1.plot(df_sub2.v_Vel.diff().diff())\n",
    "\n",
    "ax2 = f.add_subplot(122)\n",
    "plot_pacf(df_sub2.v_Vel.diff().diff().dropna(), ax=ax2)\n",
    "plt.show()"
   ]
  },
  {
   "cell_type": "markdown",
   "id": "a5c56cbf",
   "metadata": {},
   "source": [
    "#### From the 2nd chart the \"p\" is significant with 2nd degree, hence lets consider p = 2"
   ]
  },
  {
   "cell_type": "markdown",
   "id": "93b1a872",
   "metadata": {},
   "source": [
    "### ARIMA: Modeling & Fitting"
   ]
  },
  {
   "cell_type": "code",
   "execution_count": 39,
   "id": "8c0f51a7",
   "metadata": {},
   "outputs": [
    {
     "name": "stdout",
     "output_type": "stream",
     "text": [
      "                               SARIMAX Results                                \n",
      "==============================================================================\n",
      "Dep. Variable:                  v_Vel   No. Observations:                 5531\n",
      "Model:                 ARIMA(4, 1, 2)   Log Likelihood               -6961.094\n",
      "Date:                Thu, 09 Feb 2023   AIC                          13936.187\n",
      "Time:                        17:31:30   BIC                          13982.513\n",
      "Sample:                             0   HQIC                         13952.341\n",
      "                               - 5531                                         \n",
      "Covariance Type:                  opg                                         \n",
      "==============================================================================\n",
      "                 coef    std err          z      P>|z|      [0.025      0.975]\n",
      "------------------------------------------------------------------------------\n",
      "ar.L1          0.5993      0.085      7.010      0.000       0.432       0.767\n",
      "ar.L2         -0.4365      0.083     -5.274      0.000      -0.599      -0.274\n",
      "ar.L3          0.1331      0.028      4.816      0.000       0.079       0.187\n",
      "ar.L4         -0.1332      0.010    -13.525      0.000      -0.153      -0.114\n",
      "ma.L1         -0.1059      0.086     -1.237      0.216      -0.274       0.062\n",
      "ma.L2          0.3947      0.055      7.173      0.000       0.287       0.503\n",
      "sigma2         0.7259      0.001    759.390      0.000       0.724       0.728\n",
      "===================================================================================\n",
      "Ljung-Box (L1) (Q):                   0.00   Jarque-Bera (JB):          50594153.59\n",
      "Prob(Q):                              0.96   Prob(JB):                         0.00\n",
      "Heteroskedasticity (H):               0.58   Skew:                            -7.66\n",
      "Prob(H) (two-sided):                  0.00   Kurtosis:                       471.34\n",
      "===================================================================================\n",
      "\n",
      "Warnings:\n",
      "[1] Covariance matrix calculated using the outer product of gradients (complex-step).\n"
     ]
    }
   ],
   "source": [
    "ar_model = ARIMA(df_sub2.v_Vel, order=(4,1,2))\n",
    "model = ar_model.fit()\n",
    "print(model.summary())"
   ]
  },
  {
   "cell_type": "code",
   "execution_count": 40,
   "id": "a2ceade2",
   "metadata": {
    "scrolled": true
   },
   "outputs": [
    {
     "data": {
      "image/png": "[encoded data removed]",
      "text/plain": [
       "<Figure size 1200x300 with 1 Axes>"
      ]
     },
     "metadata": {},
     "output_type": "display_data"
    }
   ],
   "source": [
    "plt.figure(figsize=(12,3))\n",
    "plt.plot(df_sub2.v_Vel, \"b\", label = \"line 1\", linestyle=\"-\")\n",
    "plt.plot(model.predict(), \"orange\", label = \"line 2\", linestyle=\"--\")\n",
    "plt.show()"
   ]
  },
  {
   "cell_type": "markdown",
   "id": "c472809f",
   "metadata": {},
   "source": [
    "#### Check RMSE of ARIMA model"
   ]
  },
  {
   "cell_type": "code",
   "execution_count": 41,
   "id": "8468415b",
   "metadata": {},
   "outputs": [
    {
     "name": "stdout",
     "output_type": "stream",
     "text": [
      "The RMSE between actual and predicted values 0.9143080628168452\n"
     ]
    }
   ],
   "source": [
    "y_actual = df_sub2.v_Vel\n",
    "y_predicted = model.predict()\n",
    "\n",
    "mse = mean_squared_error(y_actual, y_predicted)\n",
    "rmse = math.sqrt(mse)\n",
    "print(\"The RMSE between actual and predicted values\", rmse)  "
   ]
  },
  {
   "cell_type": "code",
   "execution_count": null,
   "id": "8984a07f",
   "metadata": {},
   "outputs": [],
   "source": []
  },
  {
   "cell_type": "code",
   "execution_count": null,
   "id": "a2142bbe",
   "metadata": {},
   "outputs": [],
   "source": []
  },
  {
   "cell_type": "code",
   "execution_count": null,
   "id": "04e75797",
   "metadata": {},
   "outputs": [],
   "source": []
  },
  {
   "cell_type": "code",
   "execution_count": null,
   "id": "a93f70ca",
   "metadata": {},
   "outputs": [],
   "source": []
  },
  {
   "cell_type": "code",
   "execution_count": null,
   "id": "4eb4deee",
   "metadata": {},
   "outputs": [],
   "source": []
  },
  {
   "cell_type": "markdown",
   "id": "e6608bda",
   "metadata": {},
   "source": [
    "###### "
   ]
  },
  {
   "cell_type": "code",
   "execution_count": 42,
   "id": "39b6d673",
   "metadata": {},
   "outputs": [
    {
     "data": {
      "text/html": [
       "<div>\n",
       "<style scoped>\n",
       "    .dataframe tbody tr th:only-of-type {\n",
       "        vertical-align: middle;\n",
       "    }\n",
       "\n",
       "    .dataframe tbody tr th {\n",
       "        vertical-align: top;\n",
       "    }\n",
       "\n",
       "    .dataframe thead th {\n",
       "        text-align: right;\n",
       "    }\n",
       "</style>\n",
       "<table border=\"1\" class=\"dataframe\">\n",
       "  <thead>\n",
       "    <tr style=\"text-align: right;\">\n",
       "      <th></th>\n",
       "      <th>Vehicle_ID</th>\n",
       "      <th>Frame_ID</th>\n",
       "      <th>Global_Time</th>\n",
       "      <th>Local_Y</th>\n",
       "      <th>Global_Y</th>\n",
       "      <th>v_length</th>\n",
       "      <th>v_Width</th>\n",
       "      <th>v_Class</th>\n",
       "      <th>v_Vel</th>\n",
       "      <th>v_Acc</th>\n",
       "      <th>...</th>\n",
       "      <th>Space_Headway</th>\n",
       "      <th>Time_Headway</th>\n",
       "      <th>Location</th>\n",
       "      <th>Year</th>\n",
       "      <th>Month</th>\n",
       "      <th>Day</th>\n",
       "      <th>Prev_Global_Time</th>\n",
       "      <th>Time_Lag</th>\n",
       "      <th>Prev_Lane_ID</th>\n",
       "      <th>In_Same_Lane</th>\n",
       "    </tr>\n",
       "  </thead>\n",
       "  <tbody>\n",
       "    <tr>\n",
       "      <th>2216963</th>\n",
       "      <td>515</td>\n",
       "      <td>1585</td>\n",
       "      <td>2005-04-13 23:01:33.400</td>\n",
       "      <td>63.521</td>\n",
       "      <td>2133132.973</td>\n",
       "      <td>13.8</td>\n",
       "      <td>6.8</td>\n",
       "      <td>2</td>\n",
       "      <td>24.69</td>\n",
       "      <td>0.0</td>\n",
       "      <td>...</td>\n",
       "      <td>48.40</td>\n",
       "      <td>1.96</td>\n",
       "      <td>i-80</td>\n",
       "      <td>2005</td>\n",
       "      <td>4</td>\n",
       "      <td>13</td>\n",
       "      <td>NaT</td>\n",
       "      <td>NaT</td>\n",
       "      <td>NaN</td>\n",
       "      <td>0</td>\n",
       "    </tr>\n",
       "    <tr>\n",
       "      <th>2216964</th>\n",
       "      <td>515</td>\n",
       "      <td>1586</td>\n",
       "      <td>2005-04-13 23:01:33.500</td>\n",
       "      <td>66.521</td>\n",
       "      <td>2133135.950</td>\n",
       "      <td>13.8</td>\n",
       "      <td>6.8</td>\n",
       "      <td>2</td>\n",
       "      <td>24.69</td>\n",
       "      <td>0.0</td>\n",
       "      <td>...</td>\n",
       "      <td>47.85</td>\n",
       "      <td>1.94</td>\n",
       "      <td>i-80</td>\n",
       "      <td>2005</td>\n",
       "      <td>4</td>\n",
       "      <td>13</td>\n",
       "      <td>2005-04-13 23:01:33.400</td>\n",
       "      <td>0 days 00:00:00.100000</td>\n",
       "      <td>2.0</td>\n",
       "      <td>1</td>\n",
       "    </tr>\n",
       "    <tr>\n",
       "      <th>2216965</th>\n",
       "      <td>515</td>\n",
       "      <td>1587</td>\n",
       "      <td>2005-04-13 23:01:33.600</td>\n",
       "      <td>69.065</td>\n",
       "      <td>2133138.431</td>\n",
       "      <td>13.8</td>\n",
       "      <td>6.8</td>\n",
       "      <td>2</td>\n",
       "      <td>24.69</td>\n",
       "      <td>0.0</td>\n",
       "      <td>...</td>\n",
       "      <td>47.76</td>\n",
       "      <td>1.93</td>\n",
       "      <td>i-80</td>\n",
       "      <td>2005</td>\n",
       "      <td>4</td>\n",
       "      <td>13</td>\n",
       "      <td>2005-04-13 23:01:33.500</td>\n",
       "      <td>0 days 00:00:00.100000</td>\n",
       "      <td>2.0</td>\n",
       "      <td>1</td>\n",
       "    </tr>\n",
       "    <tr>\n",
       "      <th>2216966</th>\n",
       "      <td>515</td>\n",
       "      <td>1588</td>\n",
       "      <td>2005-04-13 23:01:33.700</td>\n",
       "      <td>71.065</td>\n",
       "      <td>2133140.416</td>\n",
       "      <td>13.8</td>\n",
       "      <td>6.8</td>\n",
       "      <td>2</td>\n",
       "      <td>24.69</td>\n",
       "      <td>0.0</td>\n",
       "      <td>...</td>\n",
       "      <td>48.22</td>\n",
       "      <td>1.95</td>\n",
       "      <td>i-80</td>\n",
       "      <td>2005</td>\n",
       "      <td>4</td>\n",
       "      <td>13</td>\n",
       "      <td>2005-04-13 23:01:33.600</td>\n",
       "      <td>0 days 00:00:00.100000</td>\n",
       "      <td>2.0</td>\n",
       "      <td>1</td>\n",
       "    </tr>\n",
       "    <tr>\n",
       "      <th>2216967</th>\n",
       "      <td>515</td>\n",
       "      <td>1589</td>\n",
       "      <td>2005-04-13 23:01:33.800</td>\n",
       "      <td>74.065</td>\n",
       "      <td>2133143.393</td>\n",
       "      <td>13.8</td>\n",
       "      <td>6.8</td>\n",
       "      <td>2</td>\n",
       "      <td>24.69</td>\n",
       "      <td>0.0</td>\n",
       "      <td>...</td>\n",
       "      <td>47.67</td>\n",
       "      <td>1.93</td>\n",
       "      <td>i-80</td>\n",
       "      <td>2005</td>\n",
       "      <td>4</td>\n",
       "      <td>13</td>\n",
       "      <td>2005-04-13 23:01:33.700</td>\n",
       "      <td>0 days 00:00:00.100000</td>\n",
       "      <td>2.0</td>\n",
       "      <td>1</td>\n",
       "    </tr>\n",
       "  </tbody>\n",
       "</table>\n",
       "<p>5 rows × 23 columns</p>\n",
       "</div>"
      ],
      "text/plain": [
       "         Vehicle_ID  Frame_ID             Global_Time  Local_Y     Global_Y  \\\n",
       "2216963         515      1585 2005-04-13 23:01:33.400   63.521  2133132.973   \n",
       "2216964         515      1586 2005-04-13 23:01:33.500   66.521  2133135.950   \n",
       "2216965         515      1587 2005-04-13 23:01:33.600   69.065  2133138.431   \n",
       "2216966         515      1588 2005-04-13 23:01:33.700   71.065  2133140.416   \n",
       "2216967         515      1589 2005-04-13 23:01:33.800   74.065  2133143.393   \n",
       "\n",
       "         v_length  v_Width  v_Class  v_Vel  v_Acc  ...  Space_Headway  \\\n",
       "2216963      13.8      6.8        2  24.69    0.0  ...          48.40   \n",
       "2216964      13.8      6.8        2  24.69    0.0  ...          47.85   \n",
       "2216965      13.8      6.8        2  24.69    0.0  ...          47.76   \n",
       "2216966      13.8      6.8        2  24.69    0.0  ...          48.22   \n",
       "2216967      13.8      6.8        2  24.69    0.0  ...          47.67   \n",
       "\n",
       "         Time_Headway  Location  Year  Month Day        Prev_Global_Time  \\\n",
       "2216963          1.96      i-80  2005      4  13                     NaT   \n",
       "2216964          1.94      i-80  2005      4  13 2005-04-13 23:01:33.400   \n",
       "2216965          1.93      i-80  2005      4  13 2005-04-13 23:01:33.500   \n",
       "2216966          1.95      i-80  2005      4  13 2005-04-13 23:01:33.600   \n",
       "2216967          1.93      i-80  2005      4  13 2005-04-13 23:01:33.700   \n",
       "\n",
       "                      Time_Lag  Prev_Lane_ID In_Same_Lane  \n",
       "2216963                    NaT           NaN            0  \n",
       "2216964 0 days 00:00:00.100000           2.0            1  \n",
       "2216965 0 days 00:00:00.100000           2.0            1  \n",
       "2216966 0 days 00:00:00.100000           2.0            1  \n",
       "2216967 0 days 00:00:00.100000           2.0            1  \n",
       "\n",
       "[5 rows x 23 columns]"
      ]
     },
     "execution_count": 42,
     "metadata": {},
     "output_type": "execute_result"
    }
   ],
   "source": [
    "df_sub1.head()"
   ]
  },
  {
   "cell_type": "code",
   "execution_count": null,
   "id": "6ea23561",
   "metadata": {},
   "outputs": [],
   "source": []
  },
  {
   "cell_type": "code",
   "execution_count": 43,
   "id": "7070039b",
   "metadata": {},
   "outputs": [
    {
     "data": {
      "text/plain": [
       "Index(['Vehicle_ID', 'Frame_ID', 'Global_Time', 'Local_Y', 'Global_Y',\n",
       "       'v_length', 'v_Width', 'v_Class', 'v_Vel', 'v_Acc', 'Lane_ID',\n",
       "       'Preceding', 'Following', 'Space_Headway', 'Time_Headway', 'Location',\n",
       "       'Year', 'Month', 'Day', 'Prev_Global_Time', 'Time_Lag', 'Prev_Lane_ID',\n",
       "       'In_Same_Lane'],\n",
       "      dtype='object')"
      ]
     },
     "execution_count": 43,
     "metadata": {},
     "output_type": "execute_result"
    }
   ],
   "source": [
    "df_sub2.columns"
   ]
  },
  {
   "cell_type": "code",
   "execution_count": 44,
   "id": "9c273a07",
   "metadata": {},
   "outputs": [
    {
     "data": {
      "text/html": [
       "<div>\n",
       "<style scoped>\n",
       "    .dataframe tbody tr th:only-of-type {\n",
       "        vertical-align: middle;\n",
       "    }\n",
       "\n",
       "    .dataframe tbody tr th {\n",
       "        vertical-align: top;\n",
       "    }\n",
       "\n",
       "    .dataframe thead th {\n",
       "        text-align: right;\n",
       "    }\n",
       "</style>\n",
       "<table border=\"1\" class=\"dataframe\">\n",
       "  <thead>\n",
       "    <tr style=\"text-align: right;\">\n",
       "      <th></th>\n",
       "      <th>Vehicle_ID</th>\n",
       "      <th>Frame_ID</th>\n",
       "      <th>Global_Time</th>\n",
       "      <th>Local_Y</th>\n",
       "      <th>Global_Y</th>\n",
       "      <th>v_length</th>\n",
       "      <th>v_Width</th>\n",
       "      <th>v_Class</th>\n",
       "      <th>v_Vel</th>\n",
       "      <th>v_Acc</th>\n",
       "      <th>...</th>\n",
       "      <th>Space_Headway</th>\n",
       "      <th>Time_Headway</th>\n",
       "      <th>Location</th>\n",
       "      <th>Year</th>\n",
       "      <th>Month</th>\n",
       "      <th>Day</th>\n",
       "      <th>Prev_Global_Time</th>\n",
       "      <th>Time_Lag</th>\n",
       "      <th>Prev_Lane_ID</th>\n",
       "      <th>In_Same_Lane</th>\n",
       "    </tr>\n",
       "  </thead>\n",
       "  <tbody>\n",
       "    <tr>\n",
       "      <th>0</th>\n",
       "      <td>515</td>\n",
       "      <td>1586</td>\n",
       "      <td>2005-04-13 23:01:33.500</td>\n",
       "      <td>66.521</td>\n",
       "      <td>2133135.950</td>\n",
       "      <td>13.8</td>\n",
       "      <td>6.8</td>\n",
       "      <td>2</td>\n",
       "      <td>24.69</td>\n",
       "      <td>0.00</td>\n",
       "      <td>...</td>\n",
       "      <td>47.85</td>\n",
       "      <td>1.94</td>\n",
       "      <td>i-80</td>\n",
       "      <td>2005</td>\n",
       "      <td>4</td>\n",
       "      <td>13</td>\n",
       "      <td>2005-04-13 23:01:33.400</td>\n",
       "      <td>0 days 00:00:00.100000</td>\n",
       "      <td>2.0</td>\n",
       "      <td>1</td>\n",
       "    </tr>\n",
       "    <tr>\n",
       "      <th>1</th>\n",
       "      <td>515</td>\n",
       "      <td>1587</td>\n",
       "      <td>2005-04-13 23:01:33.600</td>\n",
       "      <td>69.065</td>\n",
       "      <td>2133138.431</td>\n",
       "      <td>13.8</td>\n",
       "      <td>6.8</td>\n",
       "      <td>2</td>\n",
       "      <td>24.69</td>\n",
       "      <td>0.00</td>\n",
       "      <td>...</td>\n",
       "      <td>47.76</td>\n",
       "      <td>1.93</td>\n",
       "      <td>i-80</td>\n",
       "      <td>2005</td>\n",
       "      <td>4</td>\n",
       "      <td>13</td>\n",
       "      <td>2005-04-13 23:01:33.500</td>\n",
       "      <td>0 days 00:00:00.100000</td>\n",
       "      <td>2.0</td>\n",
       "      <td>1</td>\n",
       "    </tr>\n",
       "    <tr>\n",
       "      <th>2</th>\n",
       "      <td>515</td>\n",
       "      <td>1588</td>\n",
       "      <td>2005-04-13 23:01:33.700</td>\n",
       "      <td>71.065</td>\n",
       "      <td>2133140.416</td>\n",
       "      <td>13.8</td>\n",
       "      <td>6.8</td>\n",
       "      <td>2</td>\n",
       "      <td>24.69</td>\n",
       "      <td>0.00</td>\n",
       "      <td>...</td>\n",
       "      <td>48.22</td>\n",
       "      <td>1.95</td>\n",
       "      <td>i-80</td>\n",
       "      <td>2005</td>\n",
       "      <td>4</td>\n",
       "      <td>13</td>\n",
       "      <td>2005-04-13 23:01:33.600</td>\n",
       "      <td>0 days 00:00:00.100000</td>\n",
       "      <td>2.0</td>\n",
       "      <td>1</td>\n",
       "    </tr>\n",
       "    <tr>\n",
       "      <th>3</th>\n",
       "      <td>515</td>\n",
       "      <td>1589</td>\n",
       "      <td>2005-04-13 23:01:33.800</td>\n",
       "      <td>74.065</td>\n",
       "      <td>2133143.393</td>\n",
       "      <td>13.8</td>\n",
       "      <td>6.8</td>\n",
       "      <td>2</td>\n",
       "      <td>24.69</td>\n",
       "      <td>0.00</td>\n",
       "      <td>...</td>\n",
       "      <td>47.67</td>\n",
       "      <td>1.93</td>\n",
       "      <td>i-80</td>\n",
       "      <td>2005</td>\n",
       "      <td>4</td>\n",
       "      <td>13</td>\n",
       "      <td>2005-04-13 23:01:33.700</td>\n",
       "      <td>0 days 00:00:00.100000</td>\n",
       "      <td>2.0</td>\n",
       "      <td>1</td>\n",
       "    </tr>\n",
       "    <tr>\n",
       "      <th>4</th>\n",
       "      <td>515</td>\n",
       "      <td>1590</td>\n",
       "      <td>2005-04-13 23:01:33.900</td>\n",
       "      <td>76.372</td>\n",
       "      <td>2133145.650</td>\n",
       "      <td>13.8</td>\n",
       "      <td>6.8</td>\n",
       "      <td>2</td>\n",
       "      <td>24.69</td>\n",
       "      <td>-4.67</td>\n",
       "      <td>...</td>\n",
       "      <td>47.81</td>\n",
       "      <td>1.94</td>\n",
       "      <td>i-80</td>\n",
       "      <td>2005</td>\n",
       "      <td>4</td>\n",
       "      <td>13</td>\n",
       "      <td>2005-04-13 23:01:33.800</td>\n",
       "      <td>0 days 00:00:00.100000</td>\n",
       "      <td>2.0</td>\n",
       "      <td>1</td>\n",
       "    </tr>\n",
       "  </tbody>\n",
       "</table>\n",
       "<p>5 rows × 23 columns</p>\n",
       "</div>"
      ],
      "text/plain": [
       "   Vehicle_ID  Frame_ID             Global_Time  Local_Y     Global_Y  \\\n",
       "0         515      1586 2005-04-13 23:01:33.500   66.521  2133135.950   \n",
       "1         515      1587 2005-04-13 23:01:33.600   69.065  2133138.431   \n",
       "2         515      1588 2005-04-13 23:01:33.700   71.065  2133140.416   \n",
       "3         515      1589 2005-04-13 23:01:33.800   74.065  2133143.393   \n",
       "4         515      1590 2005-04-13 23:01:33.900   76.372  2133145.650   \n",
       "\n",
       "   v_length  v_Width  v_Class  v_Vel  v_Acc  ...  Space_Headway  Time_Headway  \\\n",
       "0      13.8      6.8        2  24.69   0.00  ...          47.85          1.94   \n",
       "1      13.8      6.8        2  24.69   0.00  ...          47.76          1.93   \n",
       "2      13.8      6.8        2  24.69   0.00  ...          48.22          1.95   \n",
       "3      13.8      6.8        2  24.69   0.00  ...          47.67          1.93   \n",
       "4      13.8      6.8        2  24.69  -4.67  ...          47.81          1.94   \n",
       "\n",
       "   Location  Year  Month Day        Prev_Global_Time               Time_Lag  \\\n",
       "0      i-80  2005      4  13 2005-04-13 23:01:33.400 0 days 00:00:00.100000   \n",
       "1      i-80  2005      4  13 2005-04-13 23:01:33.500 0 days 00:00:00.100000   \n",
       "2      i-80  2005      4  13 2005-04-13 23:01:33.600 0 days 00:00:00.100000   \n",
       "3      i-80  2005      4  13 2005-04-13 23:01:33.700 0 days 00:00:00.100000   \n",
       "4      i-80  2005      4  13 2005-04-13 23:01:33.800 0 days 00:00:00.100000   \n",
       "\n",
       "   Prev_Lane_ID In_Same_Lane  \n",
       "0           2.0            1  \n",
       "1           2.0            1  \n",
       "2           2.0            1  \n",
       "3           2.0            1  \n",
       "4           2.0            1  \n",
       "\n",
       "[5 rows x 23 columns]"
      ]
     },
     "execution_count": 44,
     "metadata": {},
     "output_type": "execute_result"
    }
   ],
   "source": [
    "df_sub2.head()"
   ]
  },
  {
   "cell_type": "markdown",
   "id": "ae2d085c",
   "metadata": {},
   "source": [
    "## Applying Laws of Motion to find the Acceleration and Location from Velocity"
   ]
  },
  {
   "cell_type": "code",
   "execution_count": 48,
   "id": "c9581366",
   "metadata": {},
   "outputs": [
    {
     "data": {
      "text/html": [
       "<div>\n",
       "<style scoped>\n",
       "    .dataframe tbody tr th:only-of-type {\n",
       "        vertical-align: middle;\n",
       "    }\n",
       "\n",
       "    .dataframe tbody tr th {\n",
       "        vertical-align: top;\n",
       "    }\n",
       "\n",
       "    .dataframe thead th {\n",
       "        text-align: right;\n",
       "    }\n",
       "</style>\n",
       "<table border=\"1\" class=\"dataframe\">\n",
       "  <thead>\n",
       "    <tr style=\"text-align: right;\">\n",
       "      <th></th>\n",
       "      <th>Global_Time</th>\n",
       "      <th>Prev_Global_Time</th>\n",
       "      <th>Time_Delta_Sec</th>\n",
       "    </tr>\n",
       "  </thead>\n",
       "  <tbody>\n",
       "    <tr>\n",
       "      <th>0</th>\n",
       "      <td>2005-04-13 23:01:33.500</td>\n",
       "      <td>NaT</td>\n",
       "      <td>NaN</td>\n",
       "    </tr>\n",
       "    <tr>\n",
       "      <th>1</th>\n",
       "      <td>2005-04-13 23:01:33.600</td>\n",
       "      <td>2005-04-13 23:01:33.500</td>\n",
       "      <td>0.1</td>\n",
       "    </tr>\n",
       "    <tr>\n",
       "      <th>2</th>\n",
       "      <td>2005-04-13 23:01:33.700</td>\n",
       "      <td>2005-04-13 23:01:33.600</td>\n",
       "      <td>0.1</td>\n",
       "    </tr>\n",
       "    <tr>\n",
       "      <th>3</th>\n",
       "      <td>2005-04-13 23:01:33.800</td>\n",
       "      <td>2005-04-13 23:01:33.700</td>\n",
       "      <td>0.1</td>\n",
       "    </tr>\n",
       "    <tr>\n",
       "      <th>4</th>\n",
       "      <td>2005-04-13 23:01:33.900</td>\n",
       "      <td>2005-04-13 23:01:33.800</td>\n",
       "      <td>0.1</td>\n",
       "    </tr>\n",
       "  </tbody>\n",
       "</table>\n",
       "</div>"
      ],
      "text/plain": [
       "              Global_Time        Prev_Global_Time  Time_Delta_Sec\n",
       "0 2005-04-13 23:01:33.500                     NaT             NaN\n",
       "1 2005-04-13 23:01:33.600 2005-04-13 23:01:33.500             0.1\n",
       "2 2005-04-13 23:01:33.700 2005-04-13 23:01:33.600             0.1\n",
       "3 2005-04-13 23:01:33.800 2005-04-13 23:01:33.700             0.1\n",
       "4 2005-04-13 23:01:33.900 2005-04-13 23:01:33.800             0.1"
      ]
     },
     "execution_count": 48,
     "metadata": {},
     "output_type": "execute_result"
    }
   ],
   "source": [
    "# Find Time_Delta\n",
    "\n",
    "df_sub_main = df_sub2.copy()\n",
    "\n",
    "df_sub_main['Prev_Global_Time'] = df_sub_main['Global_Time'].shift(1)\n",
    "df_sub_main['Time_Delta_Sec'] = (df_sub_main['Global_Time'] - df_sub_main['Prev_Global_Time']) / pd.Timedelta(seconds=1)\n",
    "\n",
    "df_sub_main[['Global_Time', 'Prev_Global_Time', 'Time_Delta_Sec']].head()"
   ]
  },
  {
   "cell_type": "code",
   "execution_count": 49,
   "id": "9010e7e1",
   "metadata": {},
   "outputs": [],
   "source": [
    "# Pred_Velocity Delta\n",
    "\n",
    "df_sub_main['v_Vel_pred'] = y_predicted.values\n",
    "df_sub_main['v_Vel_pred'] = df_sub_main['v_Vel_pred'].round(decimals = 3)\n",
    "\n",
    "\n",
    "df_sub_main['v_Vel_Pred_Previous'] = df_sub_main['v_Vel_pred'].shift(1)\n",
    "df_sub_main['Pred_Velocity_Delta'] = (df_sub_main['v_Vel_pred'] - df_sub_main['v_Vel_Pred_Previous'])"
   ]
  },
  {
   "cell_type": "code",
   "execution_count": 54,
   "id": "90132a4e",
   "metadata": {},
   "outputs": [
    {
     "data": {
      "text/html": [
       "<div>\n",
       "<style scoped>\n",
       "    .dataframe tbody tr th:only-of-type {\n",
       "        vertical-align: middle;\n",
       "    }\n",
       "\n",
       "    .dataframe tbody tr th {\n",
       "        vertical-align: top;\n",
       "    }\n",
       "\n",
       "    .dataframe thead th {\n",
       "        text-align: right;\n",
       "    }\n",
       "</style>\n",
       "<table border=\"1\" class=\"dataframe\">\n",
       "  <thead>\n",
       "    <tr style=\"text-align: right;\">\n",
       "      <th></th>\n",
       "      <th>v_Acc</th>\n",
       "      <th>v_Acc_Pred</th>\n",
       "    </tr>\n",
       "  </thead>\n",
       "  <tbody>\n",
       "    <tr>\n",
       "      <th>0</th>\n",
       "      <td>0.00</td>\n",
       "      <td>NaN</td>\n",
       "    </tr>\n",
       "    <tr>\n",
       "      <th>1</th>\n",
       "      <td>0.00</td>\n",
       "      <td>246.9</td>\n",
       "    </tr>\n",
       "    <tr>\n",
       "      <th>2</th>\n",
       "      <td>0.00</td>\n",
       "      <td>0.0</td>\n",
       "    </tr>\n",
       "    <tr>\n",
       "      <th>3</th>\n",
       "      <td>0.00</td>\n",
       "      <td>0.0</td>\n",
       "    </tr>\n",
       "    <tr>\n",
       "      <th>4</th>\n",
       "      <td>-4.67</td>\n",
       "      <td>0.0</td>\n",
       "    </tr>\n",
       "  </tbody>\n",
       "</table>\n",
       "</div>"
      ],
      "text/plain": [
       "   v_Acc  v_Acc_Pred\n",
       "0   0.00         NaN\n",
       "1   0.00       246.9\n",
       "2   0.00         0.0\n",
       "3   0.00         0.0\n",
       "4  -4.67         0.0"
      ]
     },
     "execution_count": 54,
     "metadata": {},
     "output_type": "execute_result"
    }
   ],
   "source": [
    "df_sub_main['v_Acc_Pred'] = df_sub_main['Pred_Velocity_Delta'] / df_sub_main['Time_Delta_Sec']\n",
    "df_sub_main[['v_Acc', 'v_Acc_Pred']].head()"
   ]
  },
  {
   "cell_type": "code",
   "execution_count": 55,
   "id": "da5cec11",
   "metadata": {},
   "outputs": [
    {
     "data": {
      "text/html": [
       "<div>\n",
       "<style scoped>\n",
       "    .dataframe tbody tr th:only-of-type {\n",
       "        vertical-align: middle;\n",
       "    }\n",
       "\n",
       "    .dataframe tbody tr th {\n",
       "        vertical-align: top;\n",
       "    }\n",
       "\n",
       "    .dataframe thead th {\n",
       "        text-align: right;\n",
       "    }\n",
       "</style>\n",
       "<table border=\"1\" class=\"dataframe\">\n",
       "  <thead>\n",
       "    <tr style=\"text-align: right;\">\n",
       "      <th></th>\n",
       "      <th>Global_Time</th>\n",
       "      <th>v_Vel_pred</th>\n",
       "      <th>v_Acc_Pred</th>\n",
       "    </tr>\n",
       "  </thead>\n",
       "  <tbody>\n",
       "    <tr>\n",
       "      <th>0</th>\n",
       "      <td>2005-04-13 23:01:33.500</td>\n",
       "      <td>0.00</td>\n",
       "      <td>NaN</td>\n",
       "    </tr>\n",
       "    <tr>\n",
       "      <th>1</th>\n",
       "      <td>2005-04-13 23:01:33.600</td>\n",
       "      <td>24.69</td>\n",
       "      <td>246.9</td>\n",
       "    </tr>\n",
       "    <tr>\n",
       "      <th>2</th>\n",
       "      <td>2005-04-13 23:01:33.700</td>\n",
       "      <td>24.69</td>\n",
       "      <td>0.0</td>\n",
       "    </tr>\n",
       "    <tr>\n",
       "      <th>3</th>\n",
       "      <td>2005-04-13 23:01:33.800</td>\n",
       "      <td>24.69</td>\n",
       "      <td>0.0</td>\n",
       "    </tr>\n",
       "    <tr>\n",
       "      <th>4</th>\n",
       "      <td>2005-04-13 23:01:33.900</td>\n",
       "      <td>24.69</td>\n",
       "      <td>0.0</td>\n",
       "    </tr>\n",
       "  </tbody>\n",
       "</table>\n",
       "</div>"
      ],
      "text/plain": [
       "              Global_Time  v_Vel_pred  v_Acc_Pred\n",
       "0 2005-04-13 23:01:33.500        0.00         NaN\n",
       "1 2005-04-13 23:01:33.600       24.69       246.9\n",
       "2 2005-04-13 23:01:33.700       24.69         0.0\n",
       "3 2005-04-13 23:01:33.800       24.69         0.0\n",
       "4 2005-04-13 23:01:33.900       24.69         0.0"
      ]
     },
     "execution_count": 55,
     "metadata": {},
     "output_type": "execute_result"
    }
   ],
   "source": [
    "df_sub_main[['Global_Time', 'v_Vel_pred', 'v_Acc_Pred']].head()"
   ]
  },
  {
   "cell_type": "code",
   "execution_count": null,
   "id": "5b3378e8",
   "metadata": {},
   "outputs": [],
   "source": []
  },
  {
   "cell_type": "code",
   "execution_count": null,
   "id": "c7302357",
   "metadata": {},
   "outputs": [],
   "source": []
  },
  {
   "cell_type": "code",
   "execution_count": null,
   "id": "e9d043b2",
   "metadata": {},
   "outputs": [],
   "source": []
  },
  {
   "cell_type": "code",
   "execution_count": null,
   "id": "2d91e28c",
   "metadata": {},
   "outputs": [],
   "source": []
  },
  {
   "cell_type": "code",
   "execution_count": null,
   "id": "b9f0be59",
   "metadata": {},
   "outputs": [],
   "source": []
  },
  {
   "cell_type": "code",
   "execution_count": null,
   "id": "02d160b1",
   "metadata": {},
   "outputs": [],
   "source": []
  },
  {
   "cell_type": "code",
   "execution_count": null,
   "id": "2a13c98f",
   "metadata": {},
   "outputs": [],
   "source": []
  },
  {
   "cell_type": "code",
   "execution_count": null,
   "id": "5882705a",
   "metadata": {},
   "outputs": [],
   "source": []
  },
  {
   "cell_type": "code",
   "execution_count": null,
   "id": "f646011e",
   "metadata": {},
   "outputs": [],
   "source": []
  },
  {
   "cell_type": "code",
   "execution_count": null,
   "id": "3bb57027",
   "metadata": {},
   "outputs": [],
   "source": []
  },
  {
   "cell_type": "code",
   "execution_count": null,
   "id": "9d3a6d8c",
   "metadata": {},
   "outputs": [],
   "source": []
  },
  {
   "cell_type": "code",
   "execution_count": null,
   "id": "742b7eab",
   "metadata": {},
   "outputs": [],
   "source": []
  },
  {
   "cell_type": "code",
   "execution_count": null,
   "id": "b2a1d7e2",
   "metadata": {},
   "outputs": [],
   "source": []
  },
  {
   "cell_type": "code",
   "execution_count": null,
   "id": "16fccbe8",
   "metadata": {},
   "outputs": [],
   "source": []
  },
  {
   "cell_type": "code",
   "execution_count": null,
   "id": "c3e1e8d8",
   "metadata": {},
   "outputs": [],
   "source": []
  },
  {
   "cell_type": "code",
   "execution_count": null,
   "id": "38d5c4c1",
   "metadata": {},
   "outputs": [],
   "source": []
  },
  {
   "cell_type": "markdown",
   "id": "e568835a",
   "metadata": {},
   "source": [
    "# Method# 2 :\n",
    "# Linear Regression Models"
   ]
  },
  {
   "cell_type": "code",
   "execution_count": 145,
   "id": "2073a8ab",
   "metadata": {},
   "outputs": [
    {
     "data": {
      "text/html": [
       "<div>\n",
       "<style scoped>\n",
       "    .dataframe tbody tr th:only-of-type {\n",
       "        vertical-align: middle;\n",
       "    }\n",
       "\n",
       "    .dataframe tbody tr th {\n",
       "        vertical-align: top;\n",
       "    }\n",
       "\n",
       "    .dataframe thead th {\n",
       "        text-align: right;\n",
       "    }\n",
       "</style>\n",
       "<table border=\"1\" class=\"dataframe\">\n",
       "  <thead>\n",
       "    <tr style=\"text-align: right;\">\n",
       "      <th></th>\n",
       "      <th>Vehicle_ID</th>\n",
       "      <th>Frame_ID</th>\n",
       "      <th>Global_Time</th>\n",
       "      <th>Local_Y</th>\n",
       "      <th>Global_Y</th>\n",
       "      <th>v_length</th>\n",
       "      <th>v_Width</th>\n",
       "      <th>v_Class</th>\n",
       "      <th>v_Vel</th>\n",
       "      <th>v_Acc</th>\n",
       "      <th>Lane_ID</th>\n",
       "      <th>Preceding</th>\n",
       "      <th>Following</th>\n",
       "      <th>Space_Headway</th>\n",
       "      <th>Time_Headway</th>\n",
       "      <th>Location</th>\n",
       "      <th>Year</th>\n",
       "      <th>Month</th>\n",
       "      <th>Day</th>\n",
       "    </tr>\n",
       "  </thead>\n",
       "  <tbody>\n",
       "    <tr>\n",
       "      <th>0</th>\n",
       "      <td>1</td>\n",
       "      <td>12</td>\n",
       "      <td>2005-04-13 22:58:56.100</td>\n",
       "      <td>48.213</td>\n",
       "      <td>2133117.662</td>\n",
       "      <td>14.3</td>\n",
       "      <td>6.4</td>\n",
       "      <td>2</td>\n",
       "      <td>12.5</td>\n",
       "      <td>0.0</td>\n",
       "      <td>2</td>\n",
       "      <td>0</td>\n",
       "      <td>0</td>\n",
       "      <td>0.0</td>\n",
       "      <td>0.0</td>\n",
       "      <td>i-80</td>\n",
       "      <td>2005</td>\n",
       "      <td>4</td>\n",
       "      <td>13</td>\n",
       "    </tr>\n",
       "    <tr>\n",
       "      <th>1</th>\n",
       "      <td>1</td>\n",
       "      <td>13</td>\n",
       "      <td>2005-04-13 22:58:56.200</td>\n",
       "      <td>49.463</td>\n",
       "      <td>2133118.909</td>\n",
       "      <td>14.3</td>\n",
       "      <td>6.4</td>\n",
       "      <td>2</td>\n",
       "      <td>12.5</td>\n",
       "      <td>0.0</td>\n",
       "      <td>2</td>\n",
       "      <td>0</td>\n",
       "      <td>0</td>\n",
       "      <td>0.0</td>\n",
       "      <td>0.0</td>\n",
       "      <td>i-80</td>\n",
       "      <td>2005</td>\n",
       "      <td>4</td>\n",
       "      <td>13</td>\n",
       "    </tr>\n",
       "    <tr>\n",
       "      <th>2</th>\n",
       "      <td>1</td>\n",
       "      <td>14</td>\n",
       "      <td>2005-04-13 22:58:56.300</td>\n",
       "      <td>50.712</td>\n",
       "      <td>2133120.155</td>\n",
       "      <td>14.3</td>\n",
       "      <td>6.4</td>\n",
       "      <td>2</td>\n",
       "      <td>12.5</td>\n",
       "      <td>0.0</td>\n",
       "      <td>2</td>\n",
       "      <td>0</td>\n",
       "      <td>0</td>\n",
       "      <td>0.0</td>\n",
       "      <td>0.0</td>\n",
       "      <td>i-80</td>\n",
       "      <td>2005</td>\n",
       "      <td>4</td>\n",
       "      <td>13</td>\n",
       "    </tr>\n",
       "    <tr>\n",
       "      <th>3</th>\n",
       "      <td>1</td>\n",
       "      <td>15</td>\n",
       "      <td>2005-04-13 22:58:56.400</td>\n",
       "      <td>51.963</td>\n",
       "      <td>2133121.402</td>\n",
       "      <td>14.3</td>\n",
       "      <td>6.4</td>\n",
       "      <td>2</td>\n",
       "      <td>12.5</td>\n",
       "      <td>0.0</td>\n",
       "      <td>2</td>\n",
       "      <td>0</td>\n",
       "      <td>0</td>\n",
       "      <td>0.0</td>\n",
       "      <td>0.0</td>\n",
       "      <td>i-80</td>\n",
       "      <td>2005</td>\n",
       "      <td>4</td>\n",
       "      <td>13</td>\n",
       "    </tr>\n",
       "    <tr>\n",
       "      <th>4</th>\n",
       "      <td>1</td>\n",
       "      <td>16</td>\n",
       "      <td>2005-04-13 22:58:56.500</td>\n",
       "      <td>53.213</td>\n",
       "      <td>2133122.649</td>\n",
       "      <td>14.3</td>\n",
       "      <td>6.4</td>\n",
       "      <td>2</td>\n",
       "      <td>12.5</td>\n",
       "      <td>0.0</td>\n",
       "      <td>2</td>\n",
       "      <td>0</td>\n",
       "      <td>0</td>\n",
       "      <td>0.0</td>\n",
       "      <td>0.0</td>\n",
       "      <td>i-80</td>\n",
       "      <td>2005</td>\n",
       "      <td>4</td>\n",
       "      <td>13</td>\n",
       "    </tr>\n",
       "  </tbody>\n",
       "</table>\n",
       "</div>"
      ],
      "text/plain": [
       "   Vehicle_ID  Frame_ID             Global_Time  Local_Y     Global_Y  \\\n",
       "0           1        12 2005-04-13 22:58:56.100   48.213  2133117.662   \n",
       "1           1        13 2005-04-13 22:58:56.200   49.463  2133118.909   \n",
       "2           1        14 2005-04-13 22:58:56.300   50.712  2133120.155   \n",
       "3           1        15 2005-04-13 22:58:56.400   51.963  2133121.402   \n",
       "4           1        16 2005-04-13 22:58:56.500   53.213  2133122.649   \n",
       "\n",
       "   v_length  v_Width  v_Class  v_Vel  v_Acc  Lane_ID  Preceding  Following  \\\n",
       "0      14.3      6.4        2   12.5    0.0        2          0          0   \n",
       "1      14.3      6.4        2   12.5    0.0        2          0          0   \n",
       "2      14.3      6.4        2   12.5    0.0        2          0          0   \n",
       "3      14.3      6.4        2   12.5    0.0        2          0          0   \n",
       "4      14.3      6.4        2   12.5    0.0        2          0          0   \n",
       "\n",
       "   Space_Headway  Time_Headway Location  Year  Month  Day  \n",
       "0            0.0           0.0     i-80  2005      4   13  \n",
       "1            0.0           0.0     i-80  2005      4   13  \n",
       "2            0.0           0.0     i-80  2005      4   13  \n",
       "3            0.0           0.0     i-80  2005      4   13  \n",
       "4            0.0           0.0     i-80  2005      4   13  "
      ]
     },
     "execution_count": 145,
     "metadata": {},
     "output_type": "execute_result"
    }
   ],
   "source": [
    "df_main_sorted.head()"
   ]
  },
  {
   "cell_type": "markdown",
   "id": "989ebbaf",
   "metadata": {},
   "source": [
    "### Subset the relevant deatures for modelling"
   ]
  },
  {
   "cell_type": "code",
   "execution_count": 149,
   "id": "4d377314",
   "metadata": {},
   "outputs": [
    {
     "data": {
      "text/html": [
       "<div>\n",
       "<style scoped>\n",
       "    .dataframe tbody tr th:only-of-type {\n",
       "        vertical-align: middle;\n",
       "    }\n",
       "\n",
       "    .dataframe tbody tr th {\n",
       "        vertical-align: top;\n",
       "    }\n",
       "\n",
       "    .dataframe thead th {\n",
       "        text-align: right;\n",
       "    }\n",
       "</style>\n",
       "<table border=\"1\" class=\"dataframe\">\n",
       "  <thead>\n",
       "    <tr style=\"text-align: right;\">\n",
       "      <th></th>\n",
       "      <th>Global_Time</th>\n",
       "      <th>Lane_ID</th>\n",
       "      <th>Prev_Lane_ID</th>\n",
       "      <th>In_Same_Lane</th>\n",
       "    </tr>\n",
       "  </thead>\n",
       "  <tbody>\n",
       "    <tr>\n",
       "      <th>0</th>\n",
       "      <td>2005-04-13 22:58:56.100</td>\n",
       "      <td>2</td>\n",
       "      <td>NaN</td>\n",
       "      <td>0</td>\n",
       "    </tr>\n",
       "    <tr>\n",
       "      <th>1</th>\n",
       "      <td>2005-04-13 22:58:56.200</td>\n",
       "      <td>2</td>\n",
       "      <td>2.0</td>\n",
       "      <td>1</td>\n",
       "    </tr>\n",
       "    <tr>\n",
       "      <th>2</th>\n",
       "      <td>2005-04-13 22:58:56.300</td>\n",
       "      <td>2</td>\n",
       "      <td>2.0</td>\n",
       "      <td>1</td>\n",
       "    </tr>\n",
       "    <tr>\n",
       "      <th>3</th>\n",
       "      <td>2005-04-13 22:58:56.400</td>\n",
       "      <td>2</td>\n",
       "      <td>2.0</td>\n",
       "      <td>1</td>\n",
       "    </tr>\n",
       "    <tr>\n",
       "      <th>4</th>\n",
       "      <td>2005-04-13 22:58:56.500</td>\n",
       "      <td>2</td>\n",
       "      <td>2.0</td>\n",
       "      <td>1</td>\n",
       "    </tr>\n",
       "  </tbody>\n",
       "</table>\n",
       "</div>"
      ],
      "text/plain": [
       "              Global_Time  Lane_ID  Prev_Lane_ID  In_Same_Lane\n",
       "0 2005-04-13 22:58:56.100        2           NaN             0\n",
       "1 2005-04-13 22:58:56.200        2           2.0             1\n",
       "2 2005-04-13 22:58:56.300        2           2.0             1\n",
       "3 2005-04-13 22:58:56.400        2           2.0             1\n",
       "4 2005-04-13 22:58:56.500        2           2.0             1"
      ]
     },
     "execution_count": 149,
     "metadata": {},
     "output_type": "execute_result"
    }
   ],
   "source": [
    "df_main = df_main_sorted.copy()\n",
    "df_main['Prev_Lane_ID'] = df_main['Lane_ID'].shift(1)\n",
    "df_main['In_Same_Lane'] = np.where(df_main['Lane_ID'] == df_main['Prev_Lane_ID'], 1, 0)\n",
    "df_main[['Global_Time', 'Lane_ID', 'Prev_Lane_ID', 'In_Same_Lane']].head()"
   ]
  },
  {
   "cell_type": "code",
   "execution_count": 150,
   "id": "1d107012",
   "metadata": {},
   "outputs": [
    {
     "data": {
      "text/html": [
       "<div>\n",
       "<style scoped>\n",
       "    .dataframe tbody tr th:only-of-type {\n",
       "        vertical-align: middle;\n",
       "    }\n",
       "\n",
       "    .dataframe tbody tr th {\n",
       "        vertical-align: top;\n",
       "    }\n",
       "\n",
       "    .dataframe thead th {\n",
       "        text-align: right;\n",
       "    }\n",
       "</style>\n",
       "<table border=\"1\" class=\"dataframe\">\n",
       "  <thead>\n",
       "    <tr style=\"text-align: right;\">\n",
       "      <th></th>\n",
       "      <th>Vehicle_ID</th>\n",
       "      <th>Frame_ID</th>\n",
       "      <th>Global_Time</th>\n",
       "      <th>Local_Y</th>\n",
       "      <th>Global_Y</th>\n",
       "      <th>v_length</th>\n",
       "      <th>v_Width</th>\n",
       "      <th>v_Class</th>\n",
       "      <th>v_Vel</th>\n",
       "      <th>v_Acc</th>\n",
       "      <th>...</th>\n",
       "      <th>Following</th>\n",
       "      <th>Space_Headway</th>\n",
       "      <th>Time_Headway</th>\n",
       "      <th>Location</th>\n",
       "      <th>Year</th>\n",
       "      <th>Month</th>\n",
       "      <th>Day</th>\n",
       "      <th>Prev_Lane_ID</th>\n",
       "      <th>In_Same_Lane</th>\n",
       "      <th>Location_Code</th>\n",
       "    </tr>\n",
       "  </thead>\n",
       "  <tbody>\n",
       "    <tr>\n",
       "      <th>0</th>\n",
       "      <td>1</td>\n",
       "      <td>12</td>\n",
       "      <td>2005-04-13 22:58:56.100</td>\n",
       "      <td>48.213</td>\n",
       "      <td>2133117.662</td>\n",
       "      <td>14.3</td>\n",
       "      <td>6.4</td>\n",
       "      <td>2</td>\n",
       "      <td>12.5</td>\n",
       "      <td>0.0</td>\n",
       "      <td>...</td>\n",
       "      <td>0</td>\n",
       "      <td>0.0</td>\n",
       "      <td>0.0</td>\n",
       "      <td>i-80</td>\n",
       "      <td>2005</td>\n",
       "      <td>4</td>\n",
       "      <td>13</td>\n",
       "      <td>NaN</td>\n",
       "      <td>0</td>\n",
       "      <td>0</td>\n",
       "    </tr>\n",
       "    <tr>\n",
       "      <th>1</th>\n",
       "      <td>1</td>\n",
       "      <td>13</td>\n",
       "      <td>2005-04-13 22:58:56.200</td>\n",
       "      <td>49.463</td>\n",
       "      <td>2133118.909</td>\n",
       "      <td>14.3</td>\n",
       "      <td>6.4</td>\n",
       "      <td>2</td>\n",
       "      <td>12.5</td>\n",
       "      <td>0.0</td>\n",
       "      <td>...</td>\n",
       "      <td>0</td>\n",
       "      <td>0.0</td>\n",
       "      <td>0.0</td>\n",
       "      <td>i-80</td>\n",
       "      <td>2005</td>\n",
       "      <td>4</td>\n",
       "      <td>13</td>\n",
       "      <td>2.0</td>\n",
       "      <td>1</td>\n",
       "      <td>0</td>\n",
       "    </tr>\n",
       "    <tr>\n",
       "      <th>2</th>\n",
       "      <td>1</td>\n",
       "      <td>14</td>\n",
       "      <td>2005-04-13 22:58:56.300</td>\n",
       "      <td>50.712</td>\n",
       "      <td>2133120.155</td>\n",
       "      <td>14.3</td>\n",
       "      <td>6.4</td>\n",
       "      <td>2</td>\n",
       "      <td>12.5</td>\n",
       "      <td>0.0</td>\n",
       "      <td>...</td>\n",
       "      <td>0</td>\n",
       "      <td>0.0</td>\n",
       "      <td>0.0</td>\n",
       "      <td>i-80</td>\n",
       "      <td>2005</td>\n",
       "      <td>4</td>\n",
       "      <td>13</td>\n",
       "      <td>2.0</td>\n",
       "      <td>1</td>\n",
       "      <td>0</td>\n",
       "    </tr>\n",
       "    <tr>\n",
       "      <th>3</th>\n",
       "      <td>1</td>\n",
       "      <td>15</td>\n",
       "      <td>2005-04-13 22:58:56.400</td>\n",
       "      <td>51.963</td>\n",
       "      <td>2133121.402</td>\n",
       "      <td>14.3</td>\n",
       "      <td>6.4</td>\n",
       "      <td>2</td>\n",
       "      <td>12.5</td>\n",
       "      <td>0.0</td>\n",
       "      <td>...</td>\n",
       "      <td>0</td>\n",
       "      <td>0.0</td>\n",
       "      <td>0.0</td>\n",
       "      <td>i-80</td>\n",
       "      <td>2005</td>\n",
       "      <td>4</td>\n",
       "      <td>13</td>\n",
       "      <td>2.0</td>\n",
       "      <td>1</td>\n",
       "      <td>0</td>\n",
       "    </tr>\n",
       "    <tr>\n",
       "      <th>4</th>\n",
       "      <td>1</td>\n",
       "      <td>16</td>\n",
       "      <td>2005-04-13 22:58:56.500</td>\n",
       "      <td>53.213</td>\n",
       "      <td>2133122.649</td>\n",
       "      <td>14.3</td>\n",
       "      <td>6.4</td>\n",
       "      <td>2</td>\n",
       "      <td>12.5</td>\n",
       "      <td>0.0</td>\n",
       "      <td>...</td>\n",
       "      <td>0</td>\n",
       "      <td>0.0</td>\n",
       "      <td>0.0</td>\n",
       "      <td>i-80</td>\n",
       "      <td>2005</td>\n",
       "      <td>4</td>\n",
       "      <td>13</td>\n",
       "      <td>2.0</td>\n",
       "      <td>1</td>\n",
       "      <td>0</td>\n",
       "    </tr>\n",
       "  </tbody>\n",
       "</table>\n",
       "<p>5 rows × 22 columns</p>\n",
       "</div>"
      ],
      "text/plain": [
       "   Vehicle_ID  Frame_ID             Global_Time  Local_Y     Global_Y  \\\n",
       "0           1        12 2005-04-13 22:58:56.100   48.213  2133117.662   \n",
       "1           1        13 2005-04-13 22:58:56.200   49.463  2133118.909   \n",
       "2           1        14 2005-04-13 22:58:56.300   50.712  2133120.155   \n",
       "3           1        15 2005-04-13 22:58:56.400   51.963  2133121.402   \n",
       "4           1        16 2005-04-13 22:58:56.500   53.213  2133122.649   \n",
       "\n",
       "   v_length  v_Width  v_Class  v_Vel  v_Acc  ...  Following  Space_Headway  \\\n",
       "0      14.3      6.4        2   12.5    0.0  ...          0            0.0   \n",
       "1      14.3      6.4        2   12.5    0.0  ...          0            0.0   \n",
       "2      14.3      6.4        2   12.5    0.0  ...          0            0.0   \n",
       "3      14.3      6.4        2   12.5    0.0  ...          0            0.0   \n",
       "4      14.3      6.4        2   12.5    0.0  ...          0            0.0   \n",
       "\n",
       "   Time_Headway  Location  Year Month  Day  Prev_Lane_ID  In_Same_Lane  \\\n",
       "0           0.0      i-80  2005     4   13           NaN             0   \n",
       "1           0.0      i-80  2005     4   13           2.0             1   \n",
       "2           0.0      i-80  2005     4   13           2.0             1   \n",
       "3           0.0      i-80  2005     4   13           2.0             1   \n",
       "4           0.0      i-80  2005     4   13           2.0             1   \n",
       "\n",
       "   Location_Code  \n",
       "0              0  \n",
       "1              0  \n",
       "2              0  \n",
       "3              0  \n",
       "4              0  \n",
       "\n",
       "[5 rows x 22 columns]"
      ]
     },
     "execution_count": 150,
     "metadata": {},
     "output_type": "execute_result"
    }
   ],
   "source": [
    "# Encode the Location field\n",
    "\n",
    "labelencoder = LabelEncoder()\n",
    "\n",
    "df_main['Location_Code'] = labelencoder.fit_transform(df_main['Location'])\n",
    "df_main.head()"
   ]
  },
  {
   "cell_type": "code",
   "execution_count": 151,
   "id": "856537b5",
   "metadata": {
    "scrolled": false
   },
   "outputs": [
    {
     "data": {
      "text/plain": [
       "Index(['Vehicle_ID', 'Frame_ID', 'Global_Time', 'Local_Y', 'Global_Y',\n",
       "       'v_length', 'v_Width', 'v_Class', 'v_Vel', 'v_Acc', 'Lane_ID',\n",
       "       'Preceding', 'Following', 'Space_Headway', 'Time_Headway', 'Location',\n",
       "       'Year', 'Month', 'Day', 'Prev_Lane_ID', 'In_Same_Lane',\n",
       "       'Location_Code'],\n",
       "      dtype='object')"
      ]
     },
     "execution_count": 151,
     "metadata": {},
     "output_type": "execute_result"
    }
   ],
   "source": [
    "df_main.columns"
   ]
  },
  {
   "cell_type": "code",
   "execution_count": 152,
   "id": "3b093a24",
   "metadata": {},
   "outputs": [
    {
     "data": {
      "text/html": [
       "<div>\n",
       "<style scoped>\n",
       "    .dataframe tbody tr th:only-of-type {\n",
       "        vertical-align: middle;\n",
       "    }\n",
       "\n",
       "    .dataframe tbody tr th {\n",
       "        vertical-align: top;\n",
       "    }\n",
       "\n",
       "    .dataframe thead th {\n",
       "        text-align: right;\n",
       "    }\n",
       "</style>\n",
       "<table border=\"1\" class=\"dataframe\">\n",
       "  <thead>\n",
       "    <tr style=\"text-align: right;\">\n",
       "      <th></th>\n",
       "      <th>Vehicle_ID</th>\n",
       "      <th>Local_Y</th>\n",
       "      <th>v_length</th>\n",
       "      <th>v_Width</th>\n",
       "      <th>v_Class</th>\n",
       "      <th>Preceding</th>\n",
       "      <th>Following</th>\n",
       "      <th>Space_Headway</th>\n",
       "      <th>Location_Code</th>\n",
       "      <th>In_Same_Lane</th>\n",
       "      <th>v_Vel</th>\n",
       "    </tr>\n",
       "  </thead>\n",
       "  <tbody>\n",
       "    <tr>\n",
       "      <th>0</th>\n",
       "      <td>1</td>\n",
       "      <td>48.213</td>\n",
       "      <td>14.3</td>\n",
       "      <td>6.4</td>\n",
       "      <td>2</td>\n",
       "      <td>0</td>\n",
       "      <td>0</td>\n",
       "      <td>0.0</td>\n",
       "      <td>0</td>\n",
       "      <td>0</td>\n",
       "      <td>12.5</td>\n",
       "    </tr>\n",
       "    <tr>\n",
       "      <th>1</th>\n",
       "      <td>1</td>\n",
       "      <td>49.463</td>\n",
       "      <td>14.3</td>\n",
       "      <td>6.4</td>\n",
       "      <td>2</td>\n",
       "      <td>0</td>\n",
       "      <td>0</td>\n",
       "      <td>0.0</td>\n",
       "      <td>0</td>\n",
       "      <td>1</td>\n",
       "      <td>12.5</td>\n",
       "    </tr>\n",
       "    <tr>\n",
       "      <th>2</th>\n",
       "      <td>1</td>\n",
       "      <td>50.712</td>\n",
       "      <td>14.3</td>\n",
       "      <td>6.4</td>\n",
       "      <td>2</td>\n",
       "      <td>0</td>\n",
       "      <td>0</td>\n",
       "      <td>0.0</td>\n",
       "      <td>0</td>\n",
       "      <td>1</td>\n",
       "      <td>12.5</td>\n",
       "    </tr>\n",
       "    <tr>\n",
       "      <th>3</th>\n",
       "      <td>1</td>\n",
       "      <td>51.963</td>\n",
       "      <td>14.3</td>\n",
       "      <td>6.4</td>\n",
       "      <td>2</td>\n",
       "      <td>0</td>\n",
       "      <td>0</td>\n",
       "      <td>0.0</td>\n",
       "      <td>0</td>\n",
       "      <td>1</td>\n",
       "      <td>12.5</td>\n",
       "    </tr>\n",
       "    <tr>\n",
       "      <th>4</th>\n",
       "      <td>1</td>\n",
       "      <td>53.213</td>\n",
       "      <td>14.3</td>\n",
       "      <td>6.4</td>\n",
       "      <td>2</td>\n",
       "      <td>0</td>\n",
       "      <td>0</td>\n",
       "      <td>0.0</td>\n",
       "      <td>0</td>\n",
       "      <td>1</td>\n",
       "      <td>12.5</td>\n",
       "    </tr>\n",
       "  </tbody>\n",
       "</table>\n",
       "</div>"
      ],
      "text/plain": [
       "   Vehicle_ID  Local_Y  v_length  v_Width  v_Class  Preceding  Following  \\\n",
       "0           1   48.213      14.3      6.4        2          0          0   \n",
       "1           1   49.463      14.3      6.4        2          0          0   \n",
       "2           1   50.712      14.3      6.4        2          0          0   \n",
       "3           1   51.963      14.3      6.4        2          0          0   \n",
       "4           1   53.213      14.3      6.4        2          0          0   \n",
       "\n",
       "   Space_Headway  Location_Code  In_Same_Lane  v_Vel  \n",
       "0            0.0              0             0   12.5  \n",
       "1            0.0              0             1   12.5  \n",
       "2            0.0              0             1   12.5  \n",
       "3            0.0              0             1   12.5  \n",
       "4            0.0              0             1   12.5  "
      ]
     },
     "execution_count": 152,
     "metadata": {},
     "output_type": "execute_result"
    }
   ],
   "source": [
    "features = ['Vehicle_ID', 'Local_Y', 'v_length', 'v_Width', 'v_Class',\n",
    "            'Preceding', 'Following', 'Space_Headway', 'Location_Code',\n",
    "            'In_Same_Lane', 'v_Vel']\n",
    "\n",
    "df_main = df_main[features]\n",
    "df_main.head()"
   ]
  },
  {
   "cell_type": "code",
   "execution_count": 153,
   "id": "960e3a3d",
   "metadata": {
    "scrolled": true
   },
   "outputs": [
    {
     "data": {
      "text/plain": [
       "Vehicle_ID       0\n",
       "Local_Y          0\n",
       "v_length         0\n",
       "v_Width          0\n",
       "v_Class          0\n",
       "Preceding        0\n",
       "Following        0\n",
       "Space_Headway    0\n",
       "Location_Code    0\n",
       "In_Same_Lane     0\n",
       "v_Vel            0\n",
       "dtype: int64"
      ]
     },
     "execution_count": 153,
     "metadata": {},
     "output_type": "execute_result"
    }
   ],
   "source": [
    "df_main.isnull().sum()"
   ]
  },
  {
   "cell_type": "markdown",
   "id": "15942c1b",
   "metadata": {},
   "source": [
    "### Custom Train test split"
   ]
  },
  {
   "cell_type": "code",
   "execution_count": 154,
   "id": "18524d0a",
   "metadata": {},
   "outputs": [
    {
     "data": {
      "text/plain": [
       "3233"
      ]
     },
     "execution_count": 154,
     "metadata": {},
     "output_type": "execute_result"
    }
   ],
   "source": [
    "# How many Vehicles are there in the dataset in total?\n",
    "df_main.Vehicle_ID.nunique()"
   ]
  },
  {
   "cell_type": "code",
   "execution_count": 155,
   "id": "3dea1109",
   "metadata": {},
   "outputs": [
    {
     "data": {
      "text/plain": [
       "array([   1,    2,    3, ..., 3364, 3365, 3366], dtype=int64)"
      ]
     },
     "execution_count": 155,
     "metadata": {},
     "output_type": "execute_result"
    }
   ],
   "source": [
    "# Get a list of all the Vehicle_ID \n",
    "tot_veh_ids = df_main.Vehicle_ID.unique()\n",
    "tot_veh_ids"
   ]
  },
  {
   "cell_type": "code",
   "execution_count": 156,
   "id": "76da0568",
   "metadata": {},
   "outputs": [
    {
     "data": {
      "text/plain": [
       "970.0"
      ]
     },
     "execution_count": 156,
     "metadata": {},
     "output_type": "execute_result"
    }
   ],
   "source": [
    "round(3233*.3,0)"
   ]
  },
  {
   "cell_type": "code",
   "execution_count": 157,
   "id": "76fa6bff",
   "metadata": {},
   "outputs": [
    {
     "data": {
      "text/plain": [
       "2263"
      ]
     },
     "execution_count": 157,
     "metadata": {},
     "output_type": "execute_result"
    }
   ],
   "source": [
    "3233-970"
   ]
  },
  {
   "cell_type": "code",
   "execution_count": 158,
   "id": "946ffefc",
   "metadata": {},
   "outputs": [
    {
     "data": {
      "text/plain": [
       "(2263,)"
      ]
     },
     "execution_count": 158,
     "metadata": {},
     "output_type": "execute_result"
    }
   ],
   "source": [
    "train_veh_ids = tot_veh_ids[:2263]\n",
    "train_veh_ids.shape"
   ]
  },
  {
   "cell_type": "code",
   "execution_count": 159,
   "id": "d4d3679e",
   "metadata": {},
   "outputs": [
    {
     "data": {
      "text/plain": [
       "array([   1,    2,    3, ..., 2261, 2262, 2263], dtype=int64)"
      ]
     },
     "execution_count": 159,
     "metadata": {},
     "output_type": "execute_result"
    }
   ],
   "source": [
    "train_veh_ids"
   ]
  },
  {
   "cell_type": "code",
   "execution_count": 160,
   "id": "d2e17938",
   "metadata": {},
   "outputs": [
    {
     "data": {
      "text/html": [
       "<div>\n",
       "<style scoped>\n",
       "    .dataframe tbody tr th:only-of-type {\n",
       "        vertical-align: middle;\n",
       "    }\n",
       "\n",
       "    .dataframe tbody tr th {\n",
       "        vertical-align: top;\n",
       "    }\n",
       "\n",
       "    .dataframe thead th {\n",
       "        text-align: right;\n",
       "    }\n",
       "</style>\n",
       "<table border=\"1\" class=\"dataframe\">\n",
       "  <thead>\n",
       "    <tr style=\"text-align: right;\">\n",
       "      <th></th>\n",
       "      <th>Vehicle_ID</th>\n",
       "      <th>Local_Y</th>\n",
       "      <th>v_length</th>\n",
       "      <th>v_Width</th>\n",
       "      <th>v_Class</th>\n",
       "      <th>Preceding</th>\n",
       "      <th>Following</th>\n",
       "      <th>Space_Headway</th>\n",
       "      <th>Location_Code</th>\n",
       "      <th>In_Same_Lane</th>\n",
       "      <th>v_Vel</th>\n",
       "    </tr>\n",
       "  </thead>\n",
       "  <tbody>\n",
       "    <tr>\n",
       "      <th>0</th>\n",
       "      <td>1</td>\n",
       "      <td>48.213</td>\n",
       "      <td>14.3</td>\n",
       "      <td>6.4</td>\n",
       "      <td>2</td>\n",
       "      <td>0</td>\n",
       "      <td>0</td>\n",
       "      <td>0.0</td>\n",
       "      <td>0</td>\n",
       "      <td>0</td>\n",
       "      <td>12.5</td>\n",
       "    </tr>\n",
       "    <tr>\n",
       "      <th>1</th>\n",
       "      <td>1</td>\n",
       "      <td>49.463</td>\n",
       "      <td>14.3</td>\n",
       "      <td>6.4</td>\n",
       "      <td>2</td>\n",
       "      <td>0</td>\n",
       "      <td>0</td>\n",
       "      <td>0.0</td>\n",
       "      <td>0</td>\n",
       "      <td>1</td>\n",
       "      <td>12.5</td>\n",
       "    </tr>\n",
       "    <tr>\n",
       "      <th>2</th>\n",
       "      <td>1</td>\n",
       "      <td>50.712</td>\n",
       "      <td>14.3</td>\n",
       "      <td>6.4</td>\n",
       "      <td>2</td>\n",
       "      <td>0</td>\n",
       "      <td>0</td>\n",
       "      <td>0.0</td>\n",
       "      <td>0</td>\n",
       "      <td>1</td>\n",
       "      <td>12.5</td>\n",
       "    </tr>\n",
       "    <tr>\n",
       "      <th>3</th>\n",
       "      <td>1</td>\n",
       "      <td>51.963</td>\n",
       "      <td>14.3</td>\n",
       "      <td>6.4</td>\n",
       "      <td>2</td>\n",
       "      <td>0</td>\n",
       "      <td>0</td>\n",
       "      <td>0.0</td>\n",
       "      <td>0</td>\n",
       "      <td>1</td>\n",
       "      <td>12.5</td>\n",
       "    </tr>\n",
       "    <tr>\n",
       "      <th>4</th>\n",
       "      <td>1</td>\n",
       "      <td>53.213</td>\n",
       "      <td>14.3</td>\n",
       "      <td>6.4</td>\n",
       "      <td>2</td>\n",
       "      <td>0</td>\n",
       "      <td>0</td>\n",
       "      <td>0.0</td>\n",
       "      <td>0</td>\n",
       "      <td>1</td>\n",
       "      <td>12.5</td>\n",
       "    </tr>\n",
       "  </tbody>\n",
       "</table>\n",
       "</div>"
      ],
      "text/plain": [
       "   Vehicle_ID  Local_Y  v_length  v_Width  v_Class  Preceding  Following  \\\n",
       "0           1   48.213      14.3      6.4        2          0          0   \n",
       "1           1   49.463      14.3      6.4        2          0          0   \n",
       "2           1   50.712      14.3      6.4        2          0          0   \n",
       "3           1   51.963      14.3      6.4        2          0          0   \n",
       "4           1   53.213      14.3      6.4        2          0          0   \n",
       "\n",
       "   Space_Headway  Location_Code  In_Same_Lane  v_Vel  \n",
       "0            0.0              0             0   12.5  \n",
       "1            0.0              0             1   12.5  \n",
       "2            0.0              0             1   12.5  \n",
       "3            0.0              0             1   12.5  \n",
       "4            0.0              0             1   12.5  "
      ]
     },
     "execution_count": 160,
     "metadata": {},
     "output_type": "execute_result"
    }
   ],
   "source": [
    "df_train = df_main[df_main['Vehicle_ID'].isin(train_veh_ids)]\n",
    "df_train.head()"
   ]
  },
  {
   "cell_type": "code",
   "execution_count": 161,
   "id": "45d26abe",
   "metadata": {},
   "outputs": [
    {
     "data": {
      "text/plain": [
       "2263"
      ]
     },
     "execution_count": 161,
     "metadata": {},
     "output_type": "execute_result"
    }
   ],
   "source": [
    "df_train.Vehicle_ID.nunique()"
   ]
  },
  {
   "cell_type": "code",
   "execution_count": 162,
   "id": "30a9c9a5",
   "metadata": {},
   "outputs": [
    {
     "data": {
      "text/html": [
       "<div>\n",
       "<style scoped>\n",
       "    .dataframe tbody tr th:only-of-type {\n",
       "        vertical-align: middle;\n",
       "    }\n",
       "\n",
       "    .dataframe tbody tr th {\n",
       "        vertical-align: top;\n",
       "    }\n",
       "\n",
       "    .dataframe thead th {\n",
       "        text-align: right;\n",
       "    }\n",
       "</style>\n",
       "<table border=\"1\" class=\"dataframe\">\n",
       "  <thead>\n",
       "    <tr style=\"text-align: right;\">\n",
       "      <th></th>\n",
       "      <th>Vehicle_ID</th>\n",
       "      <th>Local_Y</th>\n",
       "      <th>v_length</th>\n",
       "      <th>v_Width</th>\n",
       "      <th>v_Class</th>\n",
       "      <th>Preceding</th>\n",
       "      <th>Following</th>\n",
       "      <th>Space_Headway</th>\n",
       "      <th>Location_Code</th>\n",
       "      <th>In_Same_Lane</th>\n",
       "      <th>v_Vel</th>\n",
       "    </tr>\n",
       "  </thead>\n",
       "  <tbody>\n",
       "    <tr>\n",
       "      <th>9587177</th>\n",
       "      <td>2264.0</td>\n",
       "      <td>22.733</td>\n",
       "      <td>14.8</td>\n",
       "      <td>6.4</td>\n",
       "      <td>2.0</td>\n",
       "      <td>2313.0</td>\n",
       "      <td>0.0</td>\n",
       "      <td>161.49</td>\n",
       "      <td>0.0</td>\n",
       "      <td>0.0</td>\n",
       "      <td>50.95</td>\n",
       "    </tr>\n",
       "    <tr>\n",
       "      <th>9587178</th>\n",
       "      <td>2264.0</td>\n",
       "      <td>27.832</td>\n",
       "      <td>14.8</td>\n",
       "      <td>6.4</td>\n",
       "      <td>2.0</td>\n",
       "      <td>2313.0</td>\n",
       "      <td>0.0</td>\n",
       "      <td>161.94</td>\n",
       "      <td>0.0</td>\n",
       "      <td>1.0</td>\n",
       "      <td>50.95</td>\n",
       "    </tr>\n",
       "    <tr>\n",
       "      <th>9587179</th>\n",
       "      <td>2264.0</td>\n",
       "      <td>32.932</td>\n",
       "      <td>14.8</td>\n",
       "      <td>6.4</td>\n",
       "      <td>2.0</td>\n",
       "      <td>2313.0</td>\n",
       "      <td>0.0</td>\n",
       "      <td>162.39</td>\n",
       "      <td>0.0</td>\n",
       "      <td>1.0</td>\n",
       "      <td>50.95</td>\n",
       "    </tr>\n",
       "    <tr>\n",
       "      <th>9587180</th>\n",
       "      <td>2264.0</td>\n",
       "      <td>38.032</td>\n",
       "      <td>14.8</td>\n",
       "      <td>6.4</td>\n",
       "      <td>2.0</td>\n",
       "      <td>2313.0</td>\n",
       "      <td>0.0</td>\n",
       "      <td>162.84</td>\n",
       "      <td>0.0</td>\n",
       "      <td>1.0</td>\n",
       "      <td>50.95</td>\n",
       "    </tr>\n",
       "    <tr>\n",
       "      <th>9587181</th>\n",
       "      <td>2264.0</td>\n",
       "      <td>43.132</td>\n",
       "      <td>14.8</td>\n",
       "      <td>6.4</td>\n",
       "      <td>2.0</td>\n",
       "      <td>2313.0</td>\n",
       "      <td>0.0</td>\n",
       "      <td>163.29</td>\n",
       "      <td>0.0</td>\n",
       "      <td>1.0</td>\n",
       "      <td>50.95</td>\n",
       "    </tr>\n",
       "  </tbody>\n",
       "</table>\n",
       "</div>"
      ],
      "text/plain": [
       "         Vehicle_ID  Local_Y  v_length  v_Width  v_Class  Preceding  \\\n",
       "9587177      2264.0   22.733      14.8      6.4      2.0     2313.0   \n",
       "9587178      2264.0   27.832      14.8      6.4      2.0     2313.0   \n",
       "9587179      2264.0   32.932      14.8      6.4      2.0     2313.0   \n",
       "9587180      2264.0   38.032      14.8      6.4      2.0     2313.0   \n",
       "9587181      2264.0   43.132      14.8      6.4      2.0     2313.0   \n",
       "\n",
       "         Following  Space_Headway  Location_Code  In_Same_Lane  v_Vel  \n",
       "9587177        0.0         161.49            0.0           0.0  50.95  \n",
       "9587178        0.0         161.94            0.0           1.0  50.95  \n",
       "9587179        0.0         162.39            0.0           1.0  50.95  \n",
       "9587180        0.0         162.84            0.0           1.0  50.95  \n",
       "9587181        0.0         163.29            0.0           1.0  50.95  "
      ]
     },
     "execution_count": 162,
     "metadata": {},
     "output_type": "execute_result"
    }
   ],
   "source": [
    "# df_test = df_main[~df_train].dropna()\n",
    "\n",
    "df_test = df_main[~df_main.isin(df_train)].dropna()\n",
    "df_test.head()"
   ]
  },
  {
   "cell_type": "code",
   "execution_count": 163,
   "id": "07f4bec9",
   "metadata": {},
   "outputs": [
    {
     "data": {
      "text/plain": [
       "970"
      ]
     },
     "execution_count": 163,
     "metadata": {},
     "output_type": "execute_result"
    }
   ],
   "source": [
    "df_test.Vehicle_ID.nunique()"
   ]
  },
  {
   "cell_type": "code",
   "execution_count": 164,
   "id": "8c14e9bd",
   "metadata": {},
   "outputs": [
    {
     "data": {
      "text/plain": [
       "Index(['Vehicle_ID', 'Local_Y', 'v_length', 'v_Width', 'v_Class', 'Preceding',\n",
       "       'Following', 'Space_Headway', 'Location_Code', 'In_Same_Lane', 'v_Vel'],\n",
       "      dtype='object')"
      ]
     },
     "execution_count": 164,
     "metadata": {},
     "output_type": "execute_result"
    }
   ],
   "source": [
    "df_main.columns"
   ]
  },
  {
   "cell_type": "code",
   "execution_count": 165,
   "id": "e93a8f5b",
   "metadata": {},
   "outputs": [],
   "source": [
    "feats = ['Vehicle_ID', 'Local_Y', 'v_length', 'v_Width', 'v_Class', 'Preceding',\n",
    "       'Following', 'Space_Headway', 'Location_Code', 'In_Same_Lane']\n",
    "\n",
    "X_train = df_train[feats]\n",
    "y_train = df_train['v_Vel']"
   ]
  },
  {
   "cell_type": "code",
   "execution_count": 166,
   "id": "86bfd2f7",
   "metadata": {},
   "outputs": [],
   "source": [
    "X_test = df_test[feats]\n",
    "y_test = df_test['v_Vel']"
   ]
  },
  {
   "cell_type": "code",
   "execution_count": 167,
   "id": "533f5d9e",
   "metadata": {},
   "outputs": [
    {
     "data": {
      "text/plain": [
       "970"
      ]
     },
     "execution_count": 167,
     "metadata": {},
     "output_type": "execute_result"
    }
   ],
   "source": [
    "X_test.Vehicle_ID.nunique()"
   ]
  },
  {
   "cell_type": "code",
   "execution_count": 168,
   "id": "f4ae8d07",
   "metadata": {},
   "outputs": [
    {
     "data": {
      "text/plain": [
       "0    12.5\n",
       "1    12.5\n",
       "2    12.5\n",
       "3    12.5\n",
       "4    12.5\n",
       "Name: v_Vel, dtype: float64"
      ]
     },
     "execution_count": 168,
     "metadata": {},
     "output_type": "execute_result"
    }
   ],
   "source": [
    "y_train.head()"
   ]
  },
  {
   "cell_type": "code",
   "execution_count": 169,
   "id": "794efd13",
   "metadata": {},
   "outputs": [
    {
     "data": {
      "text/plain": [
       "9587177    50.95\n",
       "9587178    50.95\n",
       "9587179    50.95\n",
       "9587180    50.95\n",
       "9587181    50.95\n",
       "Name: v_Vel, dtype: float64"
      ]
     },
     "execution_count": 169,
     "metadata": {},
     "output_type": "execute_result"
    }
   ],
   "source": [
    "y_test.head()"
   ]
  },
  {
   "cell_type": "code",
   "execution_count": null,
   "id": "7eb5f4c8",
   "metadata": {},
   "outputs": [],
   "source": []
  },
  {
   "cell_type": "markdown",
   "id": "202e6d35",
   "metadata": {},
   "source": [
    "### Model Fitting and Training"
   ]
  },
  {
   "cell_type": "markdown",
   "id": "65574372",
   "metadata": {},
   "source": [
    "## OLS Model"
   ]
  },
  {
   "cell_type": "code",
   "execution_count": 170,
   "id": "b5202df8",
   "metadata": {},
   "outputs": [
    {
     "name": "stdout",
     "output_type": "stream",
     "text": [
      "                                 OLS Regression Results                                \n",
      "=======================================================================================\n",
      "Dep. Variable:                  v_Vel   R-squared (uncentered):                   0.748\n",
      "Model:                            OLS   Adj. R-squared (uncentered):              0.748\n",
      "Method:                 Least Squares   F-statistic:                          2.841e+06\n",
      "Date:                Thu, 09 Feb 2023   Prob (F-statistic):                        0.00\n",
      "Time:                        16:29:08   Log-Likelihood:                     -3.8986e+07\n",
      "No. Observations:             9587177   AIC:                                  7.797e+07\n",
      "Df Residuals:                 9587167   BIC:                                  7.797e+07\n",
      "Df Model:                          10                                                  \n",
      "Covariance Type:            nonrobust                                                  \n",
      "=================================================================================\n",
      "                    coef    std err          t      P>|t|      [0.025      0.975]\n",
      "---------------------------------------------------------------------------------\n",
      "Vehicle_ID     1.543e-05   1.71e-05      0.903      0.366    -1.8e-05    4.89e-05\n",
      "Local_Y           0.0051   8.68e-06    587.055      0.000       0.005       0.005\n",
      "v_length         -0.1930      0.001   -172.367      0.000      -0.195      -0.191\n",
      "v_Width          -1.5949      0.006   -274.767      0.000      -1.606      -1.584\n",
      "v_Class           7.7929      0.029    271.681      0.000       7.737       7.849\n",
      "Preceding        -0.0014    1.4e-05   -102.826      0.000      -0.001      -0.001\n",
      "Following         0.0005   1.36e-05     34.091      0.000       0.000       0.000\n",
      "Space_Headway     0.0654   5.87e-05   1113.919      0.000       0.065       0.066\n",
      "Location_Code     2.4220      0.004    657.172      0.000       2.415       2.429\n",
      "In_Same_Lane      9.7495      0.037    262.195      0.000       9.677       9.822\n",
      "==============================================================================\n",
      "Omnibus:                   166944.380   Durbin-Watson:                   0.042\n",
      "Prob(Omnibus):                  0.000   Jarque-Bera (JB):           344158.171\n",
      "Skew:                           0.016   Prob(JB):                         0.00\n",
      "Kurtosis:                       3.928   Cond. No.                     2.06e+04\n",
      "==============================================================================\n",
      "\n",
      "Notes:\n",
      "[1] R² is computed without centering (uncentered) since the model does not contain a constant.\n",
      "[2] Standard Errors assume that the covariance matrix of the errors is correctly specified.\n",
      "[3] The condition number is large, 2.06e+04. This might indicate that there are\n",
      "strong multicollinearity or other numerical problems.\n",
      "R-squared value :0.7476572519003999\n",
      "Adjusted R-squared value :0.7476569886915206\n",
      "Coefficients :Vehicle_ID       0.000015\n",
      "Local_Y          0.005096\n",
      "v_length        -0.192995\n",
      "v_Width         -1.594883\n",
      "v_Class          7.792922\n",
      "Preceding       -0.001442\n",
      "Following        0.000464\n",
      "Space_Headway    0.065404\n",
      "Location_Code    2.422024\n",
      "In_Same_Lane     9.749489\n",
      "dtype: float64\n"
     ]
    }
   ],
   "source": [
    "# Create a model and fit it to get the results\n",
    "model1 = sm.OLS(y_train, X_train)\n",
    "results1 = model1.fit()\n",
    "\n",
    "# Print the results\n",
    "print(results1.summary())\n",
    "\n",
    "print(f'R-squared value :{results1.rsquared}')\n",
    "print(f'Adjusted R-squared value :{results1.rsquared_adj}')\n",
    "print(f'Coefficients :{results1.params}')"
   ]
  },
  {
   "cell_type": "markdown",
   "id": "62758d93",
   "metadata": {},
   "source": [
    "## Linear Regression Model"
   ]
  },
  {
   "cell_type": "code",
   "execution_count": 171,
   "id": "0b7007ad",
   "metadata": {},
   "outputs": [
    {
     "name": "stdout",
     "output_type": "stream",
     "text": [
      "Accuracy is:  32.376537668539285\n",
      "Cross Validation Score:  21.07147044456847\n"
     ]
    }
   ],
   "source": [
    "model = LinearRegression()\n",
    "model.fit(X_train, y_train)\n",
    "print('Accuracy is: ', model.score(X_test, y_test)*100)\n",
    "\n",
    "# Cross validation\n",
    "score = cross_val_score(model, X_train, y_train, cv=5)\n",
    "print('Cross Validation Score: ', np.mean(score)*100)"
   ]
  },
  {
   "cell_type": "markdown",
   "id": "74ffc40d",
   "metadata": {},
   "source": [
    "## RandomForest Regressor Model"
   ]
  },
  {
   "cell_type": "code",
   "execution_count": null,
   "id": "b2614767",
   "metadata": {},
   "outputs": [],
   "source": [
    "rf_regr = RandomForestRegressor(n_estimators=10, random_state=42)\n",
    "rf_regr.fit(X_train, y_train)\n",
    "res = rf_regr.predict(X_test)"
   ]
  },
  {
   "cell_type": "code",
   "execution_count": null,
   "id": "5a66a3f1",
   "metadata": {},
   "outputs": [],
   "source": [
    "res.score()"
   ]
  },
  {
   "cell_type": "code",
   "execution_count": null,
   "id": "9b99356b",
   "metadata": {},
   "outputs": [],
   "source": []
  },
  {
   "cell_type": "code",
   "execution_count": null,
   "id": "cdb755d7",
   "metadata": {},
   "outputs": [],
   "source": []
  },
  {
   "cell_type": "code",
   "execution_count": null,
   "id": "ed06173b",
   "metadata": {},
   "outputs": [],
   "source": []
  },
  {
   "cell_type": "code",
   "execution_count": null,
   "id": "9a44e57f",
   "metadata": {},
   "outputs": [],
   "source": []
  },
  {
   "cell_type": "code",
   "execution_count": null,
   "id": "d20da805",
   "metadata": {},
   "outputs": [],
   "source": []
  },
  {
   "cell_type": "code",
   "execution_count": null,
   "id": "b009c365",
   "metadata": {},
   "outputs": [],
   "source": []
  },
  {
   "cell_type": "code",
   "execution_count": null,
   "id": "17e0b475",
   "metadata": {},
   "outputs": [],
   "source": []
  }
 ],
 "metadata": {
  "kernelspec": {
   "display_name": "Python 3 (ipykernel)",
   "language": "python",
   "name": "python3"
  },
  "language_info": {
   "codemirror_mode": {
    "name": "ipython",
    "version": 3
   },
   "file_extension": ".py",
   "mimetype": "text/x-python",
   "name": "python",
   "nbconvert_exporter": "python",
   "pygments_lexer": "ipython3",
   "version": "3.9.13"
  }
 },
 "nbformat": 4,
 "nbformat_minor": 5
}
